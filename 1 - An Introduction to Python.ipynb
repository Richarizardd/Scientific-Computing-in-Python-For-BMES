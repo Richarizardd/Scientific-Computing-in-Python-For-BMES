{
 "cells": [
  {
   "cell_type": "markdown",
   "metadata": {
    "collapsed": true
   },
   "source": [
    "# An Introduction to Python"
   ]
  },
  {
   "cell_type": "markdown",
   "metadata": {},
   "source": [
    "Welcome to Python!\n",
    "\n",
    "Python is an interpretted programming language with tons of applications in biomedical sciences, and it is super easy to pick up! If you are afraid to write code, do not be. \"Sometimes the only way to make sense out of change is to plunge into it, move with it, and join the dance\" - Alan Watts. Whether or not this is your first programming language, in this set of python tutorials, we will not only you how to basic algorithm and data structures fundamentals in Python, but also how to use Python for your every-day BME/scientific programming usages."
   ]
  },
  {
   "cell_type": "markdown",
   "metadata": {},
   "source": [
    "# 0. Quick Fundamental Underpinnings - What is Computer Science?"
   ]
  },
  {
   "cell_type": "markdown",
   "metadata": {},
   "source": [
    "To start off, computer science is not the study of computers. \"Computers are to computer science what telescopes are to astronomy\" - Edsger Dijkstra. Computers are essential to understanding computer science, but it is not itself the object of study. The real questions to ask are, \"what process can we describe?\" \"What is computable?\" \"Which problems are intractible?\"\n",
    "\n",
    "This is only a crash course, so we are not going to get into anything too abstract. However, if this is truly your first introduction to computer science, we are going to be using a lot of technobabble along the way, so here are some quick definitions/analogies to consider. On the other hand, if you have already programmed before and are considering applying to large internet/software companies, please read this anyways. If you claim to be proficient in Python on your resume, you will be expected to know the difference between Python and other programming languages.\n",
    "\n",
    "#### 1. What are algorithms? What are programs? What is the difference?\n",
    "\n",
    "Algorithms are step-by-step set of operations to be performed. Programs are sequence of instructions telling a computer what to do. What is the difference? Semantics, really. Programs are in the computer. They can be instructions in interpretted languages such as Python or in machine code. Algorithms, however, are higher-level and abstract. An algorithm such as finding the kth number in Fibonacci's sequence can clearly be abstracted on paper, and does not need to be done by a computer. Often times though, when we speak of algorithms, we refer to them as being implemented by programs.\n",
    "\n",
    "#### 2. What is a high-level language? What is a low-level language?\n",
    "\n",
    "A high-level programming language is meant to be understood by a human. Strictly speaking, computer hardware can only understand a very low-level language known as machine code.\n",
    "If we want the computer to add two numbers, the instructions that the CPU might carry out be something like this:\n",
    "\n",
    "    1) Load the number from memory location 2001 into the CPU\n",
    "    \n",
    "    2) Load the number from memory location 2002 into the CPU\n",
    "    \n",
    "    3) Add the two numbers in the CPU\n",
    "    \n",
    "    4) Store the result into location 2003 into the CPU. \n",
    "    \n",
    "It's even more complicated, because in order for the machine to understand this, all of these instructions have to be written in binary notation (1s and 0s.) A lot of work to add two numbers. In a high-level language like Python, addition of two numbers can be understood as c = a + b, which the computer compiles/interprets into executable machine code.\n",
    "\n",
    "#### 3. Difference between a compiler and an interpreter?\n",
    "\n",
    "A compiler is a program that takes another program written in a high-level language (soure code), and translates it into its equivalent machine code. An interpreter executes the source code instruction-by-instruction as necessary. Difference? Compiling is one-shot translation. Once a program is compiled, it can be compiled over and over again without the need of the source code. In the interpretted case, the interpreter and source code are needed every time the program runs. Compiled programs are faster, since translation is done once and for all, but interpretted languages are more portable."
   ]
  },
  {
   "cell_type": "code",
   "execution_count": 103,
   "metadata": {
    "collapsed": false,
    "scrolled": true
   },
   "outputs": [
    {
     "name": "stdout",
     "output_type": "stream",
     "text": [
      "Question 1: Is Python compiled(0) or interpreted(1)?  0\n",
      "False, try again.\n",
      "Question 1: Is Python compiled(0) or interpreted(1)?  1\n",
      "Correct!\n",
      "Question 2: Is Python high-level(0) or low-level(1)?  0\n",
      "Correct!\n"
     ]
    }
   ],
   "source": [
    "flag1 = True\n",
    "while (flag1):\n",
    "    answer1 = eval(raw_input(\"Question 1: Is Python compiled(0) or interpreted(1)?  \"))\n",
    "    if answer1 == 1:\n",
    "        print \"Correct!\"\n",
    "        flag1 = False\n",
    "    else:\n",
    "        print \"False, try again.\"\n",
    "\n",
    "flag2 = True\n",
    "while (flag2):\n",
    "    answer2 = eval(raw_input(\"Question 2: Is Python high-level(0) or low-level(1)?  \"))\n",
    "    if answer2 == 0:\n",
    "        print \"Correct!\"\n",
    "        flag2 = False\n",
    "    else:\n",
    "        print \"False, try again.\""
   ]
  },
  {
   "cell_type": "markdown",
   "metadata": {},
   "source": [
    "You know enough (for now). Let us \"plunge\" into Python and \"join the dance!\""
   ]
  },
  {
   "cell_type": "markdown",
   "metadata": {},
   "source": [
    "## 1. Data Types, Variable Assignments, and Functions"
   ]
  },
  {
   "cell_type": "markdown",
   "metadata": {},
   "source": [
    "Here are four common data types you will encounter in Python:\n",
    "* Integers - Whole numbers\n",
    "* Floats - Real numbers\n",
    "* Booleans - True/False\n",
    "* Strings - Characters/Words\n",
    "\n",
    "The \"print\" statement in Python displays numerical computations and string expressions in a readable text format. If we were running Python from the terminal, \"print\" would output to the command-line, but Jupyter, we are printing everything to an output cell."
   ]
  },
  {
   "cell_type": "code",
   "execution_count": 32,
   "metadata": {
    "collapsed": false,
    "scrolled": true
   },
   "outputs": [
    {
     "name": "stdout",
     "output_type": "stream",
     "text": [
      "3\n",
      "3.5\n",
      "6.5\n",
      "True\n",
      "Hello World\n"
     ]
    }
   ],
   "source": [
    "print 3 # integer\n",
    "print 3.5 # float\n",
    "print 3 + 3.5 # float\n",
    "print True # boolean\n",
    "print \"Hello World\" #string"
   ]
  },
  {
   "cell_type": "markdown",
   "metadata": {},
   "source": [
    "You can concatenate different data types in \"print\" using a comma. Everything is space-delimited."
   ]
  },
  {
   "cell_type": "code",
   "execution_count": 33,
   "metadata": {
    "collapsed": false,
    "scrolled": true
   },
   "outputs": [
    {
     "name": "stdout",
     "output_type": "stream",
     "text": [
      "3 5\n",
      "Hello World is 2 words long\n"
     ]
    }
   ],
   "source": [
    "print 3, 5\n",
    "print \"Hello World is\", 2, \"words long\""
   ]
  },
  {
   "cell_type": "markdown",
   "metadata": {},
   "source": [
    "You can declare and assign variables as below. You can also use type(<variable name>) to obtain the type of variable you just assigned (should be of type int!)"
   ]
  },
  {
   "cell_type": "code",
   "execution_count": 34,
   "metadata": {
    "collapsed": false,
    "scrolled": true
   },
   "outputs": [
    {
     "name": "stdout",
     "output_type": "stream",
     "text": [
      "The variable 4 is of <type 'int'>\n"
     ]
    }
   ],
   "source": [
    "x = 4\n",
    "print \"The variable\", x, \"is of\", type(x)"
   ]
  },
  {
   "cell_type": "markdown",
   "metadata": {},
   "source": [
    "### 1.1 Numbers"
   ]
  },
  {
   "cell_type": "markdown",
   "metadata": {},
   "source": [
    "With numeric values, you can do a lot of basic arithmetic operations and form mathematical expressions."
   ]
  },
  {
   "cell_type": "code",
   "execution_count": 83,
   "metadata": {
    "collapsed": false,
    "scrolled": true
   },
   "outputs": [
    {
     "name": "stdout",
     "output_type": "stream",
     "text": [
      "Value of x: 4\n",
      "Value of x+1: 5\n",
      "Value of x-1: 3\n",
      "Value of x*2: 8\n",
      "Value of x**2: 64\n",
      "Value of x^(1/2): 4\n",
      "Value of x: 4\n"
     ]
    }
   ],
   "source": [
    "x = 4\n",
    "print \"Value of x:\", x\n",
    "print \"Value of x+1:\", x+1         # Addition\n",
    "print \"Value of x-1:\", x - 1       # Subtraction\n",
    "print \"Value of x*2:\", x * 2       # Multiplication\n",
    "print \"Value of x**2:\", x ** 3     # Exponentiation (one way)\n",
    "print \"Value of x^(1/2):\", x^(1/2) # Exponentiation (other way)\n",
    "print \"Value of x:\", x             # We didn't do any assignment!"
   ]
  },
  {
   "cell_type": "markdown",
   "metadata": {},
   "source": [
    "Notice how these operations do not actually change the value of x. We have not done any assignment yet!"
   ]
  },
  {
   "cell_type": "code",
   "execution_count": 84,
   "metadata": {
    "collapsed": false
   },
   "outputs": [
    {
     "name": "stdout",
     "output_type": "stream",
     "text": [
      "5\n",
      "6\n"
     ]
    }
   ],
   "source": [
    "x = 5\n",
    "print x\n",
    "x = x + 1 # Increment x by 1\n",
    "print x"
   ]
  },
  {
   "cell_type": "markdown",
   "metadata": {},
   "source": [
    "We can shorthand operations if they simply self-reference the variable being assigned. We can also assign variables on the same line if they are separated by a comma, and the variable assignments are respectively assigned. These snippets are equivalent to what you have seen above, but it allows for cleaner code!"
   ]
  },
  {
   "cell_type": "code",
   "execution_count": 85,
   "metadata": {
    "collapsed": false
   },
   "outputs": [
    {
     "name": "stdout",
     "output_type": "stream",
     "text": [
      "5 10\n"
     ]
    }
   ],
   "source": [
    "x, y = 4, 5     # same as x = 4; y = 5\n",
    "x += 1          # same as: x = x + 1\n",
    "y *= 2          # same as: x = x * 2\n",
    "print x, y"
   ]
  },
  {
   "cell_type": "markdown",
   "metadata": {},
   "source": [
    "Notice that when we do complex operations on integers, the type can change from an integer to a real number. \"type()\" is a built-in function that lets us inspect the datatype of a specific variable. In Python, \"type()\" is one of the many built-in functions that can do specific tasks within your program (very similar to print). We will learn more about functions, and how we can write our own later."
   ]
  },
  {
   "cell_type": "code",
   "execution_count": 86,
   "metadata": {
    "collapsed": false,
    "scrolled": true
   },
   "outputs": [
    {
     "name": "stdout",
     "output_type": "stream",
     "text": [
      "The variable x is a: <type 'int'>\n",
      "The variable x is now a: <type 'float'>\n"
     ]
    }
   ],
   "source": [
    "x = 3\n",
    "print \"The variable x is a:\", type(x)\n",
    "x += 0.1\n",
    "print \"The variable x is now a:\", type(x)"
   ]
  },
  {
   "cell_type": "markdown",
   "metadata": {},
   "source": [
    "Overall, the Python command-line is a great calculator."
   ]
  },
  {
   "cell_type": "code",
   "execution_count": 87,
   "metadata": {
    "collapsed": false
   },
   "outputs": [
    {
     "name": "stdout",
     "output_type": "stream",
     "text": [
      "-5.81263480633e+14\n"
     ]
    }
   ],
   "source": [
    "print 12323412341234/2344.5*(123+12416-123123)"
   ]
  },
  {
   "cell_type": "markdown",
   "metadata": {},
   "source": [
    "Other cool built-in functions. Unlike \"type()\", which can be used on any datatype, some built-in functions like \"abs()\" only make sense on numerical values."
   ]
  },
  {
   "cell_type": "code",
   "execution_count": 88,
   "metadata": {
    "collapsed": false
   },
   "outputs": [
    {
     "name": "stdout",
     "output_type": "stream",
     "text": [
      "5\n",
      "7\n",
      "3\n"
     ]
    },
    {
     "ename": "TypeError",
     "evalue": "bad operand type for abs(): 'str'",
     "output_type": "error",
     "traceback": [
      "\u001b[0;31m---------------------------------------------------------------------------\u001b[0m",
      "\u001b[0;31mTypeError\u001b[0m                                 Traceback (most recent call last)",
      "\u001b[0;32m<ipython-input-88-f7bafd1ef0d8>\u001b[0m in \u001b[0;36m<module>\u001b[0;34m()\u001b[0m\n\u001b[1;32m      2\u001b[0m \u001b[0;32mprint\u001b[0m \u001b[0mmax\u001b[0m\u001b[0;34m(\u001b[0m\u001b[0;36m5\u001b[0m\u001b[0;34m,\u001b[0m\u001b[0;36m6\u001b[0m\u001b[0;34m,\u001b[0m\u001b[0;36m7\u001b[0m\u001b[0;34m)\u001b[0m       \u001b[0;31m# gets the max from a list of numbers\u001b[0m\u001b[0;34m\u001b[0m\u001b[0m\n\u001b[1;32m      3\u001b[0m \u001b[0;32mprint\u001b[0m \u001b[0mmin\u001b[0m\u001b[0;34m(\u001b[0m\u001b[0;36m3\u001b[0m\u001b[0;34m,\u001b[0m\u001b[0;36m4\u001b[0m\u001b[0;34m,\u001b[0m\u001b[0;36m5\u001b[0m\u001b[0;34m)\u001b[0m       \u001b[0;31m# gets the min from a list of numbers\u001b[0m\u001b[0;34m\u001b[0m\u001b[0m\n\u001b[0;32m----> 4\u001b[0;31m \u001b[0;32mprint\u001b[0m \u001b[0mabs\u001b[0m\u001b[0;34m(\u001b[0m\u001b[0;34m\"what would this do\"\u001b[0m\u001b[0;34m)\u001b[0m \u001b[0;31m# TypeError!\u001b[0m\u001b[0;34m\u001b[0m\u001b[0m\n\u001b[0m",
      "\u001b[0;31mTypeError\u001b[0m: bad operand type for abs(): 'str'"
     ]
    }
   ],
   "source": [
    "print abs(-5)          # absolute value\n",
    "print max(5,6,7)       # gets the max from a list of numbers\n",
    "print min(3,4,5)       # gets the min from a list of numbers\n",
    "print abs(\"what would this do\") # TypeError!"
   ]
  },
  {
   "cell_type": "markdown",
   "metadata": {},
   "source": [
    "Python has an extensive library that let's you access a wide variety of functions for different tasks. We can import the \"math\" library to access a bigger range of functions for numbers."
   ]
  },
  {
   "cell_type": "code",
   "execution_count": 89,
   "metadata": {
    "collapsed": false
   },
   "outputs": [
    {
     "name": "stdout",
     "output_type": "stream",
     "text": [
      "3.0\n",
      "3125.0\n",
      "4.0\n",
      "5040\n",
      "3.14159265359\n",
      "2.71828182846\n"
     ]
    }
   ],
   "source": [
    "import math\n",
    "\n",
    "print math.sqrt(9)      # square root function\n",
    "print math.pow(5,5)     # another way to raise numbers to a power\n",
    "print math.ceil(3.6)    # rounds a numerical value upwards\n",
    "print math.factorial(7) # calculates factorials\n",
    "print math.pi           # we can also access special constants like pi\n",
    "print math.e            # and e"
   ]
  },
  {
   "cell_type": "markdown",
   "metadata": {},
   "source": [
    "### 1.2 Booleans and Logical Statements"
   ]
  },
  {
   "cell_type": "markdown",
   "metadata": {},
   "source": [
    "Booleans are built-in constants that represent \"1\" and \"0\" (for \"True\" and \"False\" respectively). \n",
    "\n",
    "In addition to using \"type(),\" the \"isinstance()\" function returns \"True\" if a variable is a given datatype. Here, we check if \"True\" is of datatype \"bool.\" It returns \"True.\" (Pretty meta right?)"
   ]
  },
  {
   "cell_type": "code",
   "execution_count": 100,
   "metadata": {
    "collapsed": false
   },
   "outputs": [
    {
     "name": "stdout",
     "output_type": "stream",
     "text": [
      "<type 'bool'>\n",
      "True\n"
     ]
    }
   ],
   "source": [
    "t, f = True, False\n",
    "print type(t) # Prints \"<type 'bool'>\"\n",
    "print isinstance(t, bool)"
   ]
  },
  {
   "cell_type": "markdown",
   "metadata": {},
   "source": [
    "We can do logical operations in Python!"
   ]
  },
  {
   "cell_type": "code",
   "execution_count": 40,
   "metadata": {
    "collapsed": false
   },
   "outputs": [
    {
     "name": "stdout",
     "output_type": "stream",
     "text": [
      "False\n",
      "True\n",
      "False\n",
      "False\n",
      "True\n",
      "2\n",
      "True\n"
     ]
    }
   ],
   "source": [
    "print t and f # Logical AND\n",
    "print t or f  # Logical OR\n",
    "print not t   # Logical NOT\n",
    "print t == f  # Logical Equivlance\n",
    "print t != f  # Logical XOR\n",
    "print t == 1  # We can see that \"True\" is actually equal to 1\n",
    "print t + 1   # Boolean + int = int"
   ]
  },
  {
   "cell_type": "code",
   "execution_count": null,
   "metadata": {
    "collapsed": true
   },
   "outputs": [],
   "source": []
  },
  {
   "cell_type": "markdown",
   "metadata": {},
   "source": [
    "### 1.3 String Literals"
   ]
  },
  {
   "cell_type": "markdown",
   "metadata": {},
   "source": [
    "Strings are a more complex datatype. Ints and Floats are primitive datatypes, meaning that they can only hold one value. In Python, strings belong to an object class called containers, which can hold an arbitrary amount of objects."
   ]
  },
  {
   "cell_type": "code",
   "execution_count": 94,
   "metadata": {
    "collapsed": true
   },
   "outputs": [],
   "source": [
    "alphabet, numbers = \"abcdefghijklmnopqrstuvwxyz\", \"0123456789\" # strings of length 26 and 10"
   ]
  },
  {
   "cell_type": "markdown",
   "metadata": {},
   "source": [
    "We can check that strings are containers using isinstance."
   ]
  },
  {
   "cell_type": "code",
   "execution_count": 103,
   "metadata": {
    "collapsed": false
   },
   "outputs": [
    {
     "data": {
      "text/plain": [
       "True"
      ]
     },
     "execution_count": 103,
     "metadata": {},
     "output_type": "execute_result"
    }
   ],
   "source": [
    "import collections\n",
    "isinstance(numbers, collections.Container)"
   ]
  },
  {
   "cell_type": "markdown",
   "metadata": {},
   "source": [
    "What is so special about string literals being containers? Unlike ints, bools, and floats, Strings have \"methods\" that only they can use. Methods are very similar to functions, but are only accessible by the object. Below, we show some of the interesting methods that Strings have."
   ]
  },
  {
   "cell_type": "code",
   "execution_count": 107,
   "metadata": {
    "collapsed": false
   },
   "outputs": [
    {
     "name": "stdout",
     "output_type": "stream",
     "text": [
      "Hello\n",
      "HELLO\n",
      "  hello\n",
      " hello \n",
      "he(ell)(ell)o\n",
      "world\n",
      "hello world\n"
     ]
    }
   ],
   "source": [
    "s = \"hello\"\n",
    "t = \"world\"\n",
    "print s.capitalize()  # Capitalize a string; prints \"Hello\"\n",
    "print s.upper()       # Convert a string to uppercase; prints \"HELLO\"\n",
    "print s.rjust(7)      # Right-justify a string, padding with spaces; prints \"  hello\"\n",
    "print s.center(7)     # Center a string, padding with spaces; prints \" hello \"\n",
    "print s.replace('l', '(ell)')  # Replace all instances of one substring with another;\n",
    "                               # prints \"he(ell)(ell)o\"\n",
    "print '  world '.strip()  # Strip leading and trailing whitespace; prints \"world\"\n",
    "print s + \" \" + t # String concatentation using the + operator"
   ]
  },
  {
   "cell_type": "markdown",
   "metadata": {},
   "source": [
    "### 1.4 Typecasting"
   ]
  },
  {
   "cell_type": "markdown",
   "metadata": {},
   "source": [
    "We have seen previously how types can change in data types (adding a float + int = float). In Python, we can use built-in functions such as str(), int(), float() to explicity interchange datatypes. In using int(), it simply rounds down the float to an integer value."
   ]
  },
  {
   "cell_type": "code",
   "execution_count": 49,
   "metadata": {
    "collapsed": false
   },
   "outputs": [
    {
     "name": "stdout",
     "output_type": "stream",
     "text": [
      "2.0\n",
      "2\n",
      "2.5\n"
     ]
    }
   ],
   "source": [
    "print float(2) # 2.0\n",
    "print int(2.5) # 2\n",
    "print str(2.5) # 2.5"
   ]
  },
  {
   "cell_type": "markdown",
   "metadata": {},
   "source": [
    "When we print out str(2.5), we just see 2.5 in the output. Is it really a string? Yes it is!"
   ]
  },
  {
   "cell_type": "code",
   "execution_count": 50,
   "metadata": {
    "collapsed": false
   },
   "outputs": [
    {
     "name": "stdout",
     "output_type": "stream",
     "text": [
      "<type 'str'>\n",
      "<type 'float'>\n"
     ]
    }
   ],
   "source": [
    "print type(str(2.5)) # string\n",
    "print type(2.5) # float"
   ]
  },
  {
   "cell_type": "markdown",
   "metadata": {},
   "source": [
    "Why might casting numbers to strings be useful? If we wanted to concatenate a number and string together, we would have to typecast that number first!\n",
    "\n",
    "In combining datatypes, we can see that:\n",
    "* boolean + int/float = int/float\n",
    "* int + int = int\n",
    "* int + float = float\n",
    "* str + str = str\n",
    "* int/float + str = doesn't make sense"
   ]
  },
  {
   "cell_type": "code",
   "execution_count": 54,
   "metadata": {
    "collapsed": false
   },
   "outputs": [
    {
     "name": "stdout",
     "output_type": "stream",
     "text": [
      "Hello World\n",
      "Hello World is 2 words long\n",
      "I have just casted the float 2.5 as the string 2 using the int() and str() functions.\n"
     ]
    }
   ],
   "source": [
    "x, y = \"Hello\", \"World\"\n",
    "print x + \" \" + y\n",
    "print \"Hello World is \" + str(2) + \" words long\"\n",
    "print \"I have just casted the float 2.5 as the string \" + str(int(2.5)) + \" using the int() and str() functions.\"\n",
    "# print int(\"five\") does not make sense! Do not uncomment."
   ]
  },
  {
   "cell_type": "markdown",
   "metadata": {},
   "source": [
    "### 1.5 Custom Functions"
   ]
  },
  {
   "cell_type": "markdown",
   "metadata": {
    "collapsed": true
   },
   "source": [
    "Usually, we want to move beyond these one-line snippets and execute an entire sequence of statements. While Jupyter cells are great at modularizing code, these code blocks won't be present in actual implementation.\n",
    "\n",
    "We have seen how built-in functions such as type(), str(), do a lot of cool things. Here, I will show you how we can make our own functions to execute specific tasks in our program so our source code isn't just one long list of operations.\n",
    "\n",
    "Here is a sample function that just prints \"Hello World!\""
   ]
  },
  {
   "cell_type": "code",
   "execution_count": 19,
   "metadata": {
    "collapsed": true
   },
   "outputs": [],
   "source": [
    "def hello():\n",
    "    print \"Hello World!\""
   ]
  },
  {
   "cell_type": "markdown",
   "metadata": {},
   "source": [
    "We execute it and there is no output. That is because we have to actually invoke the function. Below we invoke the function \"hello()\" as \"defined\" above (the \"def\" stands for \"define\"). Because the function \"hello()\" has no parameters that would act as an input, the parentheses are empty. \n",
    "\n",
    "In addition to invoking \"hello()\", we also define a new function called \"greet1(name)\", which takes in an argument (preferable a string literal) and says \"Hello\" to that person. Within \"greet1(name)\", we have a local variable called \"name\" that is assigned whatever datatype we passed as a parameter.\n",
    "\n",
    "Finally, in addition to taking in inputs, functions can also have outputs, which is done using the return statement. Unlike other Python languages, we can have multiple return statements. Our previous python hack for one-line variable assignments will now come in handy!"
   ]
  },
  {
   "cell_type": "code",
   "execution_count": 20,
   "metadata": {
    "collapsed": false
   },
   "outputs": [
    {
     "name": "stdout",
     "output_type": "stream",
     "text": [
      "Hello World!\n",
      "Hello Andy\n",
      "Hello Richard\n",
      "Hello 2.5\n",
      "Hello World Please Ignore\n",
      "Hello Andy\n",
      "Hello Richard\n"
     ]
    }
   ],
   "source": [
    "hello() # Should print out \"Hello World\"\n",
    "\n",
    "# Introducing Parameters\n",
    "def greet1(name):\n",
    "    print \"Hello\", name\n",
    "    \n",
    "greet1(\"Andy\") # Hello Andy\n",
    "greet1(\"Richard\") # Hello Richard\n",
    "greet1(2.5) # Hello 2.5\n",
    "\n",
    "# Introducting Single Return Statements\n",
    "def greet2(name):\n",
    "    return \"Hello \" + name\n",
    "print greet2(\"World Please Ignore\")\n",
    "\n",
    "# Introducting Multiple Return Statements\n",
    "def greet3(name1, name2):\n",
    "    return \"Hello \" + name1, \"Hello \" + name2\n",
    "name1, name2 = greet3(\"Andy\", \"Richard\")\n",
    "print name1\n",
    "print name2"
   ]
  },
  {
   "cell_type": "markdown",
   "metadata": {},
   "source": [
    "In our \"greet1/2/3()\" functions, we can only use name/name1/name2 within the actual function. This is because this variable \"local\" - aka, we only make this variable assignment when we invoke the function. If we try and use it afterwards, it doesn't make any sense."
   ]
  },
  {
   "cell_type": "code",
   "execution_count": 56,
   "metadata": {
    "collapsed": false
   },
   "outputs": [
    {
     "name": "stdout",
     "output_type": "stream",
     "text": [
      "Test\n",
      "None\n"
     ]
    },
    {
     "ename": "NameError",
     "evalue": "name 'name' is not defined",
     "output_type": "error",
     "traceback": [
      "\u001b[0;31m---------------------------------------------------------------------------\u001b[0m",
      "\u001b[0;31mNameError\u001b[0m                                 Traceback (most recent call last)",
      "\u001b[0;32m<ipython-input-56-439fb10d9d24>\u001b[0m in \u001b[0;36m<module>\u001b[0;34m()\u001b[0m\n\u001b[1;32m      3\u001b[0m \u001b[0;34m\u001b[0m\u001b[0m\n\u001b[1;32m      4\u001b[0m \u001b[0;32mprint\u001b[0m \u001b[0mgreet\u001b[0m\u001b[0;34m(\u001b[0m\u001b[0;34m\"Test\"\u001b[0m\u001b[0;34m)\u001b[0m\u001b[0;34m\u001b[0m\u001b[0m\n\u001b[0;32m----> 5\u001b[0;31m \u001b[0;32mprint\u001b[0m \u001b[0mname\u001b[0m \u001b[0;34m==\u001b[0m \u001b[0mNone\u001b[0m\u001b[0;34m\u001b[0m\u001b[0m\n\u001b[0m",
      "\u001b[0;31mNameError\u001b[0m: name 'name' is not defined"
     ]
    }
   ],
   "source": [
    "def greet(name):\n",
    "    print name\n",
    "\n",
    "print greet(\"Test\")\n",
    "print name"
   ]
  },
  {
   "cell_type": "markdown",
   "metadata": {},
   "source": [
    "Overall, when we try and use a variable we haven't defined, we get \"None\". Like \"True\" and \"False,\" \"None\" None is a built-in constant that is used to represent the absence of a value."
   ]
  },
  {
   "cell_type": "markdown",
   "metadata": {},
   "source": [
    "### 1.6 Question 2: Temperature Conversion"
   ]
  },
  {
   "cell_type": "markdown",
   "metadata": {},
   "source": [
    "You are now (somewhat) experts on data types, variable assignments, and functions! Now, write a function that converts from Fahrenheit to Celsius, and vice versa."
   ]
  },
  {
   "cell_type": "code",
   "execution_count": 101,
   "metadata": {
    "collapsed": true
   },
   "outputs": [],
   "source": [
    "def F2C(F):\n",
    "    return\n",
    "\n",
    "def C2F(C):\n",
    "    return"
   ]
  },
  {
   "cell_type": "code",
   "execution_count": 102,
   "metadata": {
    "collapsed": true
   },
   "outputs": [],
   "source": [
    "# Solution\n",
    "def F2C(F):\n",
    "    return (F-32)*5/9\n",
    "\n",
    "def C2F(C):\n",
    "    return (9/5)*C+32"
   ]
  },
  {
   "cell_type": "markdown",
   "metadata": {},
   "source": [
    "## Chaos"
   ]
  },
  {
   "cell_type": "code",
   "execution_count": 26,
   "metadata": {
    "collapsed": false
   },
   "outputs": [
    {
     "name": "stdout",
     "output_type": "stream",
     "text": [
      "Enter a number between 0 and 1: 0.5\n",
      "3.9 * x * (1 - x)\t\t3.9 * (y - y * y)\t\t3.9 * z - 3.9 * z * z\n",
      "1 : 0.975 \t\t0.975 \t\t0.975\n",
      "2 : 0.0950625 \t\t0.0950625 \t\t0.0950625\n",
      "3 : 0.3354999223 \t\t0.3354999223 \t\t0.3354999223\n",
      "4 : 0.8694649253 \t\t0.8694649253 \t\t0.8694649253\n",
      "5 : 0.4426331091 \t\t0.4426331091 \t\t0.4426331091\n",
      "6 : 0.9621652553 \t\t0.9621652553 \t\t0.9621652553\n",
      "7 : 0.1419727794 \t\t0.1419727794 \t\t0.1419727794\n",
      "8 : 0.4750843862 \t\t0.4750843862 \t\t0.4750843862\n",
      "9 : 0.9725789275 \t\t0.9725789275 \t\t0.9725789275\n",
      "10 : 0.1040097133 \t\t0.1040097133 \t\t0.1040097133\n",
      "11 : 0.363447602 \t\t0.363447602 \t\t0.363447602\n",
      "12 : 0.9022784261 \t\t0.9022784261 \t\t0.9022784261\n",
      "13 : 0.3438710647 \t\t0.3438710647 \t\t0.3438710647\n",
      "14 : 0.8799326468 \t\t0.8799326468 \t\t0.8799326468\n",
      "15 : 0.4120396173 \t\t0.4120396173 \t\t0.4120396173\n",
      "16 : 0.9448255872 \t\t0.9448255872 \t\t0.9448255872\n",
      "17 : 0.2033077681 \t\t0.2033077681 \t\t0.2033077681\n",
      "18 : 0.6316975062 \t\t0.6316975062 \t\t0.6316975062\n",
      "19 : 0.9073574907 \t\t0.9073574907 \t\t0.9073574907\n",
      "20 : 0.3278335116 \t\t0.3278335116 \t\t0.3278335116\n",
      "21 : 0.859398931 \t\t0.859398931 \t\t0.859398931\n",
      "22 : 0.4712463928 \t\t0.4712463928 \t\t0.4712463928\n",
      "23 : 0.9717755973 \t\t0.9717755973 \t\t0.9717755973\n",
      "24 : 0.1069683647 \t\t0.1069683647 \t\t0.1069683647\n",
      "25 : 0.3725519212 \t\t0.3725519212 \t\t0.3725519212\n",
      "26 : 0.9116522501 \t\t0.9116522501 \t\t0.9116522501\n",
      "27 : 0.3141154574 \t\t0.3141154574 \t\t0.3141154574\n",
      "28 : 0.8402430536 \t\t0.8402430536 \t\t0.8402430536\n",
      "29 : 0.5235151914 \t\t0.5235151914 \t\t0.5235151914\n",
      "30 : 0.9728434395 \t\t0.9728434395 \t\t0.9728434395\n",
      "31 : 0.1030344187 \t\t0.1030344187 \t\t0.1030344187\n",
      "32 : 0.3604314762 \t\t0.3604314763 \t\t0.3604314763\n",
      "33 : 0.899030446 \t\t0.899030446 \t\t0.899030446\n",
      "34 : 0.3540213424 \t\t0.3540213422 \t\t0.3540213423\n",
      "35 : 0.8918919029 \t\t0.8918919028 \t\t0.8918919029\n",
      "36 : 0.3760408721 \t\t0.3760408725 \t\t0.3760408722\n",
      "37 : 0.915073125 \t\t0.9150731254 \t\t0.9150731251\n",
      "38 : 0.3030857736 \t\t0.3030857722 \t\t0.3030857732\n",
      "39 : 0.823776671 \t\t0.8237766689 \t\t0.8237766704\n",
      "40 : 0.5661578025 \t\t0.5661578078 \t\t0.5661578041\n",
      "41 : 0.9579302661 \t\t0.9579302634 \t\t0.9579302653\n",
      "42 : 0.1571694982 \t\t0.157169508 \t\t0.1571695012\n",
      "43 : 0.5166222636 \t\t0.5166222895 \t\t0.5166222714\n",
      "44 : 0.9739224314 \t\t0.973922428 \t\t0.9739224304\n",
      "45 : 0.0990503632 \t\t0.0990503757 \t\t0.099050367\n",
      "46 : 0.3480336162 \t\t0.3480336552 \t\t0.348033628\n",
      "47 : 0.884934251 \t\t0.8849342971 \t\t0.884934265\n",
      "48 : 0.3971199274 \t\t0.3971197889 \t\t0.3971198855\n",
      "49 : 0.9337211936 \t\t0.9337210824 \t\t0.9337211599\n",
      "50 : 0.2413551124 \t\t0.2413554884 \t\t0.2413552262\n",
      "51 : 0.7141010063 \t\t0.7141017649 \t\t0.7141012358\n",
      "52 : 0.7962269605 \t\t0.7962256936 \t\t0.7962265772\n",
      "53 : 0.6327733926 \t\t0.6327763199 \t\t0.6327742784\n",
      "54 : 0.9062477822 \t\t0.9062447506 \t\t0.9062468648\n",
      "55 : 0.3313546838 \t\t0.3313642901 \t\t0.3313575908\n",
      "56 : 0.8640791536 \t\t0.8640917897 \t\t0.8640829774\n",
      "57 : 0.4580408427 \t\t0.4580049578 \t\t0.4580299836\n",
      "58 : 0.9681337736 \t\t0.9681220241 \t\t0.9681302191\n",
      "59 : 0.1203180031 \t\t0.1203609052 \t\t0.120330982\n",
      "60 : 0.4127821669 \t\t0.412909215 \t\t0.4128206034\n",
      "61 : 0.9453328934 \t\t0.9454192611 \t\t0.945359036\n",
      "62 : 0.2015465948 \t\t0.2012465591 \t\t0.2014557834\n",
      "63 : 0.6276097033 \t\t0.6269108879 \t\t0.6273982679\n",
      "64 : 0.9114914782 \t\t0.9121851434 \t\t0.9117017572\n",
      "65 : 0.3146315772 \t\t0.3124032894 \t\t0.3139564863\n",
      "66 : 0.8409903365 \t\t0.8377491492 \t\t0.8400124629\n",
      "67 : 0.5215298025 \t\t0.5301094976 \t\t0.5241269478\n",
      "68 : 0.9731922237 \t\t0.9714643308 \t\t0.9727297725\n",
      "69 : 0.1017475659 \t\t0.1081134006 \t\t0.1034535925\n",
      "70 : 0.3564404952 \t\t0.3760570836 \t\t0.361728692\n",
      "71 : 0.8946236074 \t\t0.9150887985 \t\t0.900436077\n",
      "72 : 0.367661613 \t\t0.3030350284 \t\t0.3496386981\n",
      "73 : 0.9066975502 \t\t0.8236987199 \t\t0.8868267677\n",
      "74 : 0.3299287005 \t\t0.5663546412 \t\t0.3914237019\n",
      "75 : 0.862195437 \t\t0.9578285402 \t\t0.9290236312\n",
      "76 : 0.4633764152 \t\t0.1575328083 \t\t0.257161023\n",
      "77 : 0.9697689808 \t\t0.517593268 \t\t0.7450140019\n",
      "78 : 0.1143367081 \t\t0.97379286 \t\t0.7408757416\n",
      "79 : 0.3949289187 \t\t0.0995292707 \t\t0.7487176207\n",
      "80 : 0.9319442647 \t\t0.3495304605 \t\t0.7337442262\n",
      "81 : 0.2473541936 \t\t0.8866997789 \t\t0.7619181833\n",
      "82 : 0.7260633764 \t\t0.3918067958 \t\t0.7074555746\n",
      "83 : 0.7756918645 \t\t0.9293474992 \t\t0.8071525199\n",
      "84 : 0.6785765838 \t\t0.2560768272 \t\t0.6070635852\n",
      "85 : 0.8506305745 \t\t0.7429557945 \t\t0.930295816\n",
      "86 : 0.4955269809 \t\t0.7447926795 \t\t0.2528974918\n",
      "87 : 0.9749219692 \t\t0.7412985219 \t\t0.7368673668\n",
      "88 : 0.0953515804 \t\t0.747922591 \t\t0.7561860171\n",
      "89 : 0.3364126604 \t\t0.7352841167 \t\t0.719038026\n",
      "90 : 0.8706328111 \t\t0.7591013994 \t\t0.7878871383\n",
      "91 : 0.4392621455 \t\t0.7131792129 \t\t0.6517718829\n",
      "92 : 0.9606125608 \t\t0.7977630304 \t\t0.8851646527\n",
      "93 : 0.1475606683 \t\t0.6292149931 \t\t0.3964279423\n",
      "94 : 0.4905674182 \t\t0.9098835937 \t\t0.9331640326\n",
      "95 : 0.974653003 \t\t0.3197822146 \t\t0.2432387915\n",
      "96 : 0.0963476544 \t\t0.8483340443 \t\t0.7178873591\n",
      "97 : 0.3395526573 \t\t0.5017872349 \t\t0.7898478851\n",
      "98 : 0.8746009358 \t\t0.9749875426 \t\t0.6473539937\n",
      "99 : 0.4277291416 \t\t0.0951086541 \t\t0.8903185221\n",
      "100 : 0.9546299998 \t\t0.3356456923 \t\t0.38084066\n"
     ]
    }
   ],
   "source": [
    "x = eval(raw_input(\"Enter a number between 0 and 1: \"))\n",
    "y = x\n",
    "z = x\n",
    "\n",
    "print \"3.9 * x * (1 - x)\\t\\t3.9 * (y - y * y)\\t\\t3.9 * z - 3.9 * z * z\"\n",
    "for i in range(100):\n",
    "    x = 3.9 * x * (1 - x)\n",
    "    y = 3.9 * (y - y * y)\n",
    "    z = 3.9 * z - 3.9 * z * z\n",
    "    print i+1, \":\" , round(x,10), \"\\t\\t\", round(y,10), \"\\t\\t\", round(z,10)"
   ]
  },
  {
   "cell_type": "code",
   "execution_count": null,
   "metadata": {
    "collapsed": true
   },
   "outputs": [],
   "source": []
  },
  {
   "cell_type": "code",
   "execution_count": null,
   "metadata": {
    "collapsed": true
   },
   "outputs": [],
   "source": [
    "0"
   ]
  }
 ],
 "metadata": {
  "kernelspec": {
   "display_name": "Python 2",
   "language": "python",
   "name": "python2"
  },
  "language_info": {
   "codemirror_mode": {
    "name": "ipython",
    "version": 2
   },
   "file_extension": ".py",
   "mimetype": "text/x-python",
   "name": "python",
   "nbconvert_exporter": "python",
   "pygments_lexer": "ipython2",
   "version": "2.7.12"
  }
 },
 "nbformat": 4,
 "nbformat_minor": 0
}
