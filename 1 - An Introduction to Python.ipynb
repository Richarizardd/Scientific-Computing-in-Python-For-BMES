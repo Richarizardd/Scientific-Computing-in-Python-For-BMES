{
 "cells": [
  {
   "cell_type": "markdown",
   "metadata": {
    "collapsed": true
   },
   "source": [
    "# An Introduction to Python"
   ]
  },
  {
   "cell_type": "markdown",
   "metadata": {},
   "source": [
    "Welcome to Python!\n",
    "\n",
    "Python is an interpretted programming language with tons of applications in biomedical sciences, and it is super easy to pick up! If you are afraid to write code, do not be. \"Sometimes the only way to make sense out of change is to plunge into it, move with it, and join the dance\" - Alan Watts. Whether or not this is your first programming language, in this set of python tutorials, we will not only you how to basic algorithm and data structures fundamentals in Python, but also how to use Python for your every-day BME/scientific programming usages."
   ]
  },
  {
   "cell_type": "markdown",
   "metadata": {},
   "source": [
    "# 0. Quick Philosophical Underpinning - What is Computer Science?"
   ]
  },
  {
   "cell_type": "markdown",
   "metadata": {},
   "source": [
    "To start off, computer science is not the study of computers. \"Computers are to computer science what telescopes are to astronomy\" - Edsger Dijkstra. Computers are essential to understanding computer science, but it is not itself the object of study. The real questions to ask are, \"what process can we describe?\" \"What is computable?\" \"Which problems are intractible?\"\n",
    "\n",
    "This is only a crash course, so we are not going to get into anything too abstract. However, if this is truly your first introduction to computer science, we are going to be using a lot of technobabble along the way, so here are some quick definitions/analogies to consider. On the other hand, if you have already programmed before and are considering applying to large internet/software companies, please read this anyways. If you claim to be proficient in Python on your resume, you will be expected to know the difference between Python and other programming languages.\n",
    "\n",
    "#### 1. What are algorithms? What are programs? What is the difference?\n",
    "\n",
    "Algorithms are step-by-step set of operations to be performed. Programs are sequence of instructions telling a computer what to do. What is the difference? Semantics, really. Programs are in the computer. They can be instructions in interpretted languages such as Python or in machine code. Algorithms, however, are higher-level and abstract. An algorithm such as finding the kth number in Fibonacci's sequence can clearly be abstracted on paper, and does not need to be done by a computer. Often times though, when we speak of algorithms, we refer to them as being implemented by programs.\n",
    "\n",
    "#### 2. What is a high-level language? What is a low-level language?\n",
    "\n",
    "A high-level programming language is meant to be understood by a human. Strictly speaking, computer hardware can only understand a very low-level language known as machine code.\n",
    "If we want the computer to add two numbers, the instructions that the CPU might carry out be something like this:\n",
    "\n",
    "    1) Load the number from memory location 2001 into the CPU\n",
    "    \n",
    "    2) Load the number from memory location 2002 into the CPU\n",
    "    \n",
    "    3) Add the two numbers in the CPU\n",
    "    \n",
    "    4) Store the result into location 2003 into the CPU. \n",
    "    \n",
    "It's even more complicated, because in order for the machine to understand this, all of these instructions have to be written in binary notation (1s and 0s.) A lot of work to add two numbers. In a high-level language like Python, addition of two numbers can be understood as c = a + b, which the computer compiles/interprets into executable machine code.\n",
    "\n",
    "#### 3. Difference between a compiler and an interpreter?\n",
    "\n",
    "A compiler is a program that takes another program written in a high-level language (soure code), and translates it into its equivalent machine code. An interpreter executes the source code instruction-by-instruction as necessary. Difference? Compiling is one-shot translation. Once a program is compiled, it can be compiled over and over again without the need of the source code. In the interpretted case, the interpreter and source code are needed every time the program runs. Compiled programs are faster, since translation is done once and for all, but interpretted languages are more portable."
   ]
  },
  {
   "cell_type": "code",
   "execution_count": 9,
   "metadata": {
    "collapsed": false,
    "scrolled": true
   },
   "outputs": [
    {
     "name": "stdout",
     "output_type": "stream",
     "text": [
      "Question 1: Is Python compiled(0) or interpreted(1)?1\n",
      "Correct!\n"
     ]
    }
   ],
   "source": [
    "answer = eval(raw_input(\"Question 1: Is Python compiled(0) or interpreted(1)?\"))\n",
    "if answer == 1:\n",
    "    print \"Correct!\"\n",
    "else:\n",
    "    print \"False, try again.\""
   ]
  },
  {
   "cell_type": "markdown",
   "metadata": {},
   "source": [
    "You know enough (for now). Let us plunge into Python and join the dance!"
   ]
  },
  {
   "cell_type": "code",
   "execution_count": null,
   "metadata": {
    "collapsed": true
   },
   "outputs": [],
   "source": []
  },
  {
   "cell_type": "markdown",
   "metadata": {},
   "source": [
    "## 1. Data Types and Print"
   ]
  },
  {
   "cell_type": "markdown",
   "metadata": {},
   "source": [
    "Here are four common data types you will encounter in Python:\n",
    "* Integers - Whole numbers\n",
    "* Floats - Real numbers\n",
    "* Booleans - True/False\n",
    "* Strings - Characters/Words\n",
    "\n",
    "The \"print\" function in Python lets us to print very basic numerical and string expressions to command-line interface (in Jupyter, we are printing to an output cell)."
   ]
  },
  {
   "cell_type": "code",
   "execution_count": 10,
   "metadata": {
    "collapsed": false,
    "scrolled": true
   },
   "outputs": [
    {
     "name": "stdout",
     "output_type": "stream",
     "text": [
      "3\n",
      "3.5\n",
      "6.5\n",
      "True\n",
      "Hello World\n"
     ]
    }
   ],
   "source": [
    "print 3 # integer\n",
    "print 3.5 # float\n",
    "print 3 + 3.5 # float\n",
    "print True # boolean\n",
    "print \"Hello World\" #string"
   ]
  },
  {
   "cell_type": "markdown",
   "metadata": {},
   "source": [
    "You can concatenate different data types in the \"print function\" using a comma."
   ]
  },
  {
   "cell_type": "code",
   "execution_count": 11,
   "metadata": {
    "collapsed": false,
    "scrolled": true
   },
   "outputs": [
    {
     "name": "stdout",
     "output_type": "stream",
     "text": [
      "3 5\n",
      "Hello World is 2 word long\n"
     ]
    }
   ],
   "source": [
    "print 3, 5\n",
    "print \"Hello World is\", 2, \"words long\""
   ]
  },
  {
   "cell_type": "markdown",
   "metadata": {},
   "source": [
    "## 2. Assigning Variables"
   ]
  },
  {
   "cell_type": "markdown",
   "metadata": {},
   "source": [
    "You can declare and assign variables as below. You can also use type(<variable name>) to obtain the type of variable you just assigned (should be of type int!)"
   ]
  },
  {
   "cell_type": "code",
   "execution_count": 12,
   "metadata": {
    "collapsed": false,
    "scrolled": true
   },
   "outputs": [
    {
     "name": "stdout",
     "output_type": "stream",
     "text": [
      "The variable 4 is of <type 'int'>\n"
     ]
    }
   ],
   "source": [
    "x = 4\n",
    "print \"The variable\", x, \"is of\", type(x)"
   ]
  },
  {
   "cell_type": "markdown",
   "metadata": {},
   "source": [
    "With numeric values, you can do a lot of basic arithmetic operations and form mathematical expressions."
   ]
  },
  {
   "cell_type": "code",
   "execution_count": null,
   "metadata": {
    "collapsed": false,
    "scrolled": true
   },
   "outputs": [],
   "source": [
    "print x + 1   # Addition\n",
    "print x - 1   # Subtraction\n",
    "print x * 2   # Multiplication\n",
    "print x ** 2  # Exponentiation (one way)\n",
    "print x^(1/2) # Exponentiation (other way)"
   ]
  },
  {
   "cell_type": "code",
   "execution_count": null,
   "metadata": {
    "collapsed": true,
    "scrolled": true
   },
   "outputs": [],
   "source": []
  },
  {
   "cell_type": "code",
   "execution_count": 13,
   "metadata": {
    "collapsed": false,
    "scrolled": true
   },
   "outputs": [
    {
     "name": "stdout",
     "output_type": "stream",
     "text": [
      "The variable x is a: <type 'int'>\n",
      "The variable x is now a: <type 'float'>\n"
     ]
    }
   ],
   "source": [
    "x = 3\n",
    "print \"The variable x is a:\", type(x)\n",
    "x = x + 0.1\n",
    "print \"The variable x is now a:\", type(x)"
   ]
  },
  {
   "cell_type": "code",
   "execution_count": null,
   "metadata": {
    "collapsed": false,
    "scrolled": true
   },
   "outputs": [],
   "source": [
    "x = 3\n",
    "print type(x) # Prints \"<type 'int'>\"\n",
    "print x       # Prints \"3\"\n",
    "print x + 1   # Addition; prints \"4\"\n",
    "print x - 1   # Subtraction; prints \"2\"\n",
    "print x * 2   # Multiplication; prints \"6\"\n",
    "print x ** 2  # Exponentiation; prints \"9\"\n",
    "x += 1\n",
    "print x  # Prints \"4\"\n",
    "x *= 2\n",
    "print x  # Prints \"8\"\n",
    "y = 2.5\n",
    "print type(y) # Prints \"<type 'float'>\"\n",
    "print y, y + 1, y * 2, y ** 2 # Prints \"2.5 3.5 5.0 6.25\""
   ]
  },
  {
   "cell_type": "code",
   "execution_count": null,
   "metadata": {
    "collapsed": true,
    "scrolled": true
   },
   "outputs": [],
   "source": []
  }
 ],
 "metadata": {
  "kernelspec": {
   "display_name": "Python 2",
   "language": "python",
   "name": "python2"
  },
  "language_info": {
   "codemirror_mode": {
    "name": "ipython",
    "version": 2
   },
   "file_extension": ".py",
   "mimetype": "text/x-python",
   "name": "python",
   "nbconvert_exporter": "python",
   "pygments_lexer": "ipython2",
   "version": "2.7.12"
  }
 },
 "nbformat": 4,
 "nbformat_minor": 0
}
