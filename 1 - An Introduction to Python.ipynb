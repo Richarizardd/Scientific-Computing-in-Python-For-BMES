{
 "cells": [
  {
   "cell_type": "markdown",
   "metadata": {
    "collapsed": true
   },
   "source": [
    "# An Introduction to Python"
   ]
  },
  {
   "cell_type": "markdown",
   "metadata": {},
   "source": [
    "Welcome to Python!\n",
    "\n",
    "Python is an interpretted programming language with tons of applications in biomedical sciences, and it is super easy to pick up! If you are afraid to write code, do not be. \"Sometimes the only way to make sense out of change is to plunge into it, move with it, and join the dance\" - Alan Watts. Whether or not this is your first programming language, in this set of python tutorials, we will not only you how to basic algorithm and data structures fundamentals in Python, but also how to use Python for your every-day BME/scientific programming usages."
   ]
  },
  {
   "cell_type": "markdown",
   "metadata": {},
   "source": [
    "# 0. Quick Fundamental Underpinnings - What is Computer Science?"
   ]
  },
  {
   "cell_type": "markdown",
   "metadata": {},
   "source": [
    "To start off, computer science is not the study of computers. \"Computers are to computer science what telescopes are to astronomy\" - Edsger Dijkstra. Computers are essential to understanding computer science, but it is not itself the object of study. The real questions to ask are, \"what process can we describe?\" \"What is computable?\" \"Which problems are intractible?\"\n",
    "\n",
    "This is only a crash course, so we are not going to get into anything too abstract. However, if this is truly your first introduction to computer science, we are going to be using a lot of technobabble along the way, so here are some quick definitions/analogies to consider. On the other hand, if you have already programmed before and are considering applying to large internet/software companies, please read this anyways. If you claim to be proficient in Python on your resume, you will be expected to know the difference between Python and other programming languages.\n",
    "\n",
    "#### 1. What are algorithms? What are programs? What is the difference?\n",
    "\n",
    "Algorithms are step-by-step set of operations to be performed. Programs are sequence of instructions telling a computer what to do. What is the difference? Semantics, really. Programs are in the computer. They can be instructions in interpretted languages such as Python or in machine code. Algorithms, however, are higher-level and abstract. An algorithm such as finding the kth number in Fibonacci's sequence can clearly be abstracted on paper, and does not need to be done by a computer. Often times though, when we speak of algorithms, we refer to them as being implemented by programs.\n",
    "\n",
    "#### 2. What is a high-level language? What is a low-level language?\n",
    "\n",
    "A high-level programming language is meant to be understood by a human. Strictly speaking, computer hardware can only understand a very low-level language known as machine code.\n",
    "If we want the computer to add two numbers, the instructions that the CPU might carry out be something like this:\n",
    "\n",
    "    1) Load the number from memory location 2001 into the CPU\n",
    "    \n",
    "    2) Load the number from memory location 2002 into the CPU\n",
    "    \n",
    "    3) Add the two numbers in the CPU\n",
    "    \n",
    "    4) Store the result into location 2003 into the CPU. \n",
    "    \n",
    "It's even more complicated, because in order for the machine to understand this, all of these instructions have to be written in binary notation (1s and 0s.) A lot of work to add two numbers. In a high-level language like Python, addition of two numbers can be understood as c = a + b, which the computer compiles/interprets into executable machine code.\n",
    "\n",
    "#### 3. Difference between a compiler and an interpreter?\n",
    "\n",
    "A compiler is a program that takes another program written in a high-level language (soure code), and translates it into its equivalent machine code. An interpreter executes the source code instruction-by-instruction as necessary. Difference? Compiling is one-shot translation. Once a program is compiled, it can be compiled over and over again without the need of the source code. In the interpretted case, the interpreter and source code are needed every time the program runs. Compiled programs are faster, since translation is done once and for all, but interpretted languages are more portable."
   ]
  },
  {
   "cell_type": "code",
   "execution_count": 31,
   "metadata": {
    "collapsed": false,
    "scrolled": true
   },
   "outputs": [
    {
     "name": "stdout",
     "output_type": "stream",
     "text": [
      "Question 1: Is Python compiled(0) or interpreted(1)?  1\n",
      "Correct!\n",
      "Question 2: Is Python high-level(0) or low-level(1)?  1\n",
      "False, try again.\n",
      "Question 2: Is Python high-level(0) or low-level(1)?  1\n",
      "False, try again.\n",
      "Question 2: Is Python high-level(0) or low-level(1)?  1\n",
      "False, try again.\n",
      "Question 2: Is Python high-level(0) or low-level(1)?  1\n",
      "False, try again.\n",
      "Question 2: Is Python high-level(0) or low-level(1)?  1\n",
      "False, try again.\n",
      "Question 2: Is Python high-level(0) or low-level(1)?  1\n",
      "False, try again.\n",
      "Question 2: Is Python high-level(0) or low-level(1)?  1\n",
      "False, try again.\n",
      "Question 2: Is Python high-level(0) or low-level(1)?  0\n",
      "Correct!\n"
     ]
    }
   ],
   "source": [
    "flag1 = True\n",
    "while (flag1):\n",
    "    answer1 = eval(raw_input(\"Question 1: Is Python compiled(0) or interpreted(1)?  \"))\n",
    "    if answer1 == 1:\n",
    "        print \"Correct!\"\n",
    "        flag1 = False\n",
    "    else:\n",
    "        print \"False, try again.\"\n",
    "\n",
    "flag2 = True\n",
    "while (flag2):\n",
    "    answer2 = eval(raw_input(\"Question 2: Is Python high-level(0) or low-level(1)?  \"))\n",
    "    if answer2 == 0:\n",
    "        print \"Correct!\"\n",
    "        flag2 = False\n",
    "    else:\n",
    "        print \"False, try again.\""
   ]
  },
  {
   "cell_type": "markdown",
   "metadata": {},
   "source": [
    "You know enough (for now). Let us \"plunge\" into Python and \"join the dance!\""
   ]
  },
  {
   "cell_type": "markdown",
   "metadata": {},
   "source": [
    "## 1. Data Types, Variable Assignments, and Functions"
   ]
  },
  {
   "cell_type": "markdown",
   "metadata": {},
   "source": [
    "Here are four common data types you will encounter in Python:\n",
    "* Integers - Whole numbers\n",
    "* Floats - Real numbers\n",
    "* Booleans - True/False\n",
    "* Strings - Characters/Words\n",
    "\n",
    "The \"print\" statement in Python displays numerical computations and string expressions in a readable text format. If we were running Python from the terminal, \"print\" would output to the command-line, but Jupyter, we are printing everything to an output cell."
   ]
  },
  {
   "cell_type": "code",
   "execution_count": 53,
   "metadata": {
    "collapsed": false,
    "scrolled": true
   },
   "outputs": [
    {
     "name": "stdout",
     "output_type": "stream",
     "text": [
      "3\n",
      "3.5\n",
      "6.5\n",
      "True\n",
      "Hello World\n"
     ]
    }
   ],
   "source": [
    "print 3 # integer\n",
    "print 3.5 # float\n",
    "print 3 + 3.5 # float\n",
    "print True # boolean\n",
    "print \"Hello World\" #string"
   ]
  },
  {
   "cell_type": "markdown",
   "metadata": {},
   "source": [
    "You can concatenate different data types in \"print\" using a comma. Everything is space-delimited."
   ]
  },
  {
   "cell_type": "code",
   "execution_count": 54,
   "metadata": {
    "collapsed": false,
    "scrolled": true
   },
   "outputs": [
    {
     "name": "stdout",
     "output_type": "stream",
     "text": [
      "3 5\n",
      "Hello World is 2 words long\n"
     ]
    }
   ],
   "source": [
    "print 3, 5\n",
    "print \"Hello World is\", 2, \"words long\""
   ]
  },
  {
   "cell_type": "markdown",
   "metadata": {},
   "source": [
    "You can declare and assign variables as below. You can also use type(<variable name>) to obtain the type of variable you just assigned (should be of type int!)"
   ]
  },
  {
   "cell_type": "code",
   "execution_count": 55,
   "metadata": {
    "collapsed": false,
    "scrolled": true
   },
   "outputs": [
    {
     "name": "stdout",
     "output_type": "stream",
     "text": [
      "The variable 4 is of <type 'int'>\n"
     ]
    }
   ],
   "source": [
    "x = 4\n",
    "print \"The variable\", x, \"is of\", type(x)"
   ]
  },
  {
   "cell_type": "markdown",
   "metadata": {},
   "source": [
    "With numeric values, you can do a lot of basic arithmetic operations and form mathematical expressions."
   ]
  },
  {
   "cell_type": "code",
   "execution_count": 56,
   "metadata": {
    "collapsed": false,
    "scrolled": true
   },
   "outputs": [
    {
     "name": "stdout",
     "output_type": "stream",
     "text": [
      "Value of x: 4\n",
      "Value of x+1: 5\n",
      "Value of x-1: 3\n",
      "Value of x*2: 8\n",
      "Value of x^2: 16\n",
      "Value of x^(1/2): 4\n",
      "Value of x: 4\n"
     ]
    }
   ],
   "source": [
    "x = 4\n",
    "print \"Value of x:\", x\n",
    "print \"Value of x+1:\", x+1   # Addition\n",
    "print \"Value of x-1:\", x - 1   # Subtraction\n",
    "print \"Value of x*2:\", x * 2   # Multiplication\n",
    "print \"Value of x^2:\", x ** 2  # Exponentiation (one way)\n",
    "print \"Value of x^(1/2):\", x^(1/2) # Exponentiation (other way)\n",
    "print \"Value of x:\", x"
   ]
  },
  {
   "cell_type": "markdown",
   "metadata": {},
   "source": [
    "Notice how these operations do not actually change the value of x. We have not done any assignment yet!"
   ]
  },
  {
   "cell_type": "code",
   "execution_count": 57,
   "metadata": {
    "collapsed": false
   },
   "outputs": [
    {
     "name": "stdout",
     "output_type": "stream",
     "text": [
      "Value of x: 4\n",
      "Value of x: 5\n"
     ]
    }
   ],
   "source": [
    "x = 4\n",
    "print \"Value of x:\", x\n",
    "x = x + 1\n",
    "print \"Value of x:\", x"
   ]
  },
  {
   "cell_type": "markdown",
   "metadata": {},
   "source": [
    "We can shorthand operations if they simply self-reference the variable being assigned. We can also assign variables on the same line if they are separated by a comma, and the variable assignments are respectively assigned. These snippets are equivalent to what you have seen above, but it allows for cleaner code!"
   ]
  },
  {
   "cell_type": "code",
   "execution_count": 59,
   "metadata": {
    "collapsed": false
   },
   "outputs": [
    {
     "name": "stdout",
     "output_type": "stream",
     "text": [
      "Value of x: 4\n",
      "Value of x: 5\n",
      "Value of y: 5\n",
      "Value of y: 10\n"
     ]
    }
   ],
   "source": [
    "x, y = 4, 5 # same as x = 4; y = 5\n",
    "print \"Value of x:\", x\n",
    "x += 1 # same as: x = x + 1\n",
    "print \"Value of x:\", x\n",
    "print \"Value of y:\", y\n",
    "y *= 2 # same as: x = x * 2\n",
    "print \"Value of y:\", y"
   ]
  },
  {
   "cell_type": "markdown",
   "metadata": {},
   "source": [
    "Notice that when we do complex operations on integers, the type can change from an integer to a real number. \"type()\" is a function that lets us inspect the datatype of a specific variable. In Python, \"type()\" is one of the many built-in functions that can do specific tasks within your program (very similar to print). We will learn more about functions, and how we can write our own later."
   ]
  },
  {
   "cell_type": "code",
   "execution_count": 88,
   "metadata": {
    "collapsed": false,
    "scrolled": true
   },
   "outputs": [
    {
     "name": "stdout",
     "output_type": "stream",
     "text": [
      "The variable x is a: <type 'int'>\n",
      "The variable x is now a: <type 'float'>\n"
     ]
    }
   ],
   "source": [
    "x = 3\n",
    "print \"The variable x is a:\", type(x)\n",
    "x = x + 0.1\n",
    "print \"The variable x is now a:\", type(x)"
   ]
  },
  {
   "cell_type": "markdown",
   "metadata": {},
   "source": [
    "Another way to printing together statements is to convert everything into a string, and then do string concatentation with the \"+\" (Adding strings together). Below are some examples. To create strings that might belong from a mix of different datatypes, we can use cast functions that would interconvert datatypes for us. The function \"str()\" converts any datatype into a string. Other functions such as \"int()\" exist which might be useful in rounding down real numbers, but you cannot easy cast from a string to an int. "
   ]
  },
  {
   "cell_type": "code",
   "execution_count": 90,
   "metadata": {
    "collapsed": false
   },
   "outputs": [
    {
     "name": "stdout",
     "output_type": "stream",
     "text": [
      "Hello World\n",
      "Hello World is 2 words long\n",
      "I have just casted the float 2.5 as the string 2 using the int() and str() functions.\n"
     ]
    }
   ],
   "source": [
    "x, y = \"Hello\", \"World\"\n",
    "print x + \" \" + y\n",
    "print \"Hello World is \" + str(2) + \" words long\"\n",
    "print \"I have just casted the float 2.5 as the string \" + str(int(2.5)) + \" using the int() and str() functions.\"\n",
    "# print int(\"five\") does not make sense! Do not uncomment."
   ]
  },
  {
   "cell_type": "markdown",
   "metadata": {
    "collapsed": true
   },
   "source": [
    "Usually, we want to move beyond these one-line snippets and execute an entire sequence of statements. While Jupyter cells are great at modularizing code, these code blocks won't be present in actual implementation.\n",
    "\n",
    "We can use custom functions to execute specific tasks in our program so our source code isn't just one long list of operations.\n",
    "\n",
    "Here is a sample function that just prints \"Hello World!\""
   ]
  },
  {
   "cell_type": "code",
   "execution_count": 71,
   "metadata": {
    "collapsed": true
   },
   "outputs": [],
   "source": [
    "def hello():\n",
    "    print \"Hello World!\""
   ]
  },
  {
   "cell_type": "markdown",
   "metadata": {},
   "source": [
    "We execute it and there is no output. That is because we have to actually invoke the function. Below we invoke function \"hello()\" as \"defined\" above (the \"def\" stands for \"define\"). Because the function \"hello()\" has no parameters that would act as an input, the parentheses are empty. \n",
    "\n",
    "In addition to invoking \"hello()\", we also define a new function called \"greet1(name)\", which takes in an argument (preferable a string literal) and says \"Hello\" to that person. Within \"greet1(name)\", we have a variable called \"name\" that is assigned whatever datatype we passed as a parameter (our function calls do not have to make any sense).\n",
    "\n",
    "Finally, in addition to taking in inputs, functions can also have outputs, which is done using the return statement. Unlike other Python languages, we can have multiple return statements. Our previous hack for one-line variable assignment will now come in handy!"
   ]
  },
  {
   "cell_type": "code",
   "execution_count": 99,
   "metadata": {
    "collapsed": false
   },
   "outputs": [
    {
     "name": "stdout",
     "output_type": "stream",
     "text": [
      "Hello World!\n",
      "Hello Andy\n",
      "Hello Richard\n",
      "Hello 2.5\n",
      "Hello World Please Ignore\n",
      "Hello Andy\n",
      "Hello Richard\n"
     ]
    }
   ],
   "source": [
    "hello() # Should print out \"Hello World\"\n",
    "\n",
    "# Introducing Parameters\n",
    "def greet1(name):\n",
    "    print \"Hello\", name\n",
    "    \n",
    "greet1(\"Andy\") # Hello Andy\n",
    "greet1(\"Richard\") # Hello Richard\n",
    "greet1(2.5) # Hello 2.5\n",
    "\n",
    "# Introducting Single Return Statements\n",
    "def greet2(name):\n",
    "    return \"Hello \" + name\n",
    "print greet2(\"World Please Ignore\")\n",
    "\n",
    "# Introducting Multiple Return Statements\n",
    "def greet3(name1, name2):\n",
    "    return \"Hello \" + name1, \"Hello \" + name2\n",
    "name1, name2 = greet3(\"Andy\", \"Richard\")\n",
    "print name1\n",
    "print name2"
   ]
  },
  {
   "cell_type": "markdown",
   "metadata": {},
   "source": [
    "You are now (somewhat) experts on data types, variable assignments, and functions! Now, write a function that converts from Fahrenheit to Celsius, and vice versa."
   ]
  },
  {
   "cell_type": "code",
   "execution_count": 101,
   "metadata": {
    "collapsed": true
   },
   "outputs": [],
   "source": [
    "def F2C(F):\n",
    "    return\n",
    "\n",
    "def C2F(C):\n",
    "    return"
   ]
  },
  {
   "cell_type": "code",
   "execution_count": 102,
   "metadata": {
    "collapsed": true
   },
   "outputs": [],
   "source": [
    "# Solution\n",
    "def F2C(F):\n",
    "    return (F-32)*5/9\n",
    "\n",
    "def C2F(C):\n",
    "    return (9/5)*C+32"
   ]
  }
 ],
 "metadata": {
  "kernelspec": {
   "display_name": "Python 2",
   "language": "python",
   "name": "python2"
  },
  "language_info": {
   "codemirror_mode": {
    "name": "ipython",
    "version": 2
   },
   "file_extension": ".py",
   "mimetype": "text/x-python",
   "name": "python",
   "nbconvert_exporter": "python",
   "pygments_lexer": "ipython2",
   "version": "2.7.12"
  }
 },
 "nbformat": 4,
 "nbformat_minor": 0
}
