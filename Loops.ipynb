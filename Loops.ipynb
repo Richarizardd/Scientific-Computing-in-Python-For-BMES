{
 "cells": [
  {
   "cell_type": "markdown",
   "metadata": {
    "collapsed": true
   },
   "source": [
    "# Loops\n",
    "\n",
    "Loops are one of the most fundamental and important concepts in computer science. In fact, it could be argued that the need for computers and computer science came about from the desire and need to carry out a set of instructions repeatedly an extremely large number of times (e.g. adding a lot of different numbers).\n",
    "\n",
    "A loop is a control statement that executes a set of statements multiple numbers of times. The two most important types of loops that we will be covering in this exploration are **while loops** and **for loops**."
   ]
  },
  {
   "cell_type": "markdown",
   "metadata": {},
   "source": [
    "## While Loops\n",
    "As the name implies, while loops carry out a set of statements **while** a boolean condition remains true."
   ]
  },
  {
   "cell_type": "markdown",
   "metadata": {},
   "source": [
    "### While Loop Example 1:\n",
    "The following while loop keeps generating random integers between -10,000 and 10,000 **while** the random integers are even. This means that as soon as an odd number is chosen, the loop will stop generating random numbers. In order to start the loop, we set the initial random integer to be 0 so that the boolean condition is evaluated to be True during the first iteration of the loop."
   ]
  },
  {
   "cell_type": "code",
   "execution_count": 38,
   "metadata": {
    "collapsed": false
   },
   "outputs": [
    {
     "name": "stdout",
     "output_type": "stream",
     "text": [
      "-8940\n",
      "2248\n",
      "8035\n"
     ]
    }
   ],
   "source": [
    "import random\n",
    "number = 0\n",
    "while (number % 2 == 0):\n",
    "    number = random.randint(-10000, 10000)\n",
    "    print number"
   ]
  },
  {
   "cell_type": "markdown",
   "metadata": {},
   "source": [
    "The example above illustrates how you can use a while loop to generate random numbers until you reach an odd number. The while loop is useful here, because we don't know exactly how many random numbers (iterations) to generate until an odd number is reached. In the following example, we will see how to use a while loop to repeat a set of statements for a known number of iterations. "
   ]
  },
  {
   "cell_type": "markdown",
   "metadata": {},
   "source": [
    "### While Loop Example 2:\n",
    "The following while loop generates 10 random integers between -10,000 and 10,000. In order to do this, we will introduce an integer variable called 'counter' that counts how many times we have generated a random integer. Thus, the boolean condition of the while statement is 'if counter is less than 10.'"
   ]
  },
  {
   "cell_type": "code",
   "execution_count": 61,
   "metadata": {
    "collapsed": false
   },
   "outputs": [
    {
     "name": "stdout",
     "output_type": "stream",
     "text": [
      "950\n",
      "-963\n",
      "2008\n",
      "-9507\n",
      "-7369\n",
      "-1588\n",
      "-8001\n",
      "5628\n",
      "-3864\n",
      "-2064\n"
     ]
    }
   ],
   "source": [
    "import random\n",
    "counter = 0\n",
    "while (counter < 10):\n",
    "    number = random.randint(-10000, 10000)\n",
    "    print number\n",
    "    counter += 1"
   ]
  },
  {
   "cell_type": "markdown",
   "metadata": {},
   "source": [
    "Notice that we have to increase counter at the end of the while loop so that counter actually keeps track of how many iterations have been carried out. If we didn't have this statement to increase counter, counter would always remain less than 10 and the while loop would enter what is known as an \"infinite loop\" in which the loop would just keep on generating random numbers until you closed the program or shut off the computer. **Watch out for infinite loops when using while loops!**"
   ]
  },
  {
   "cell_type": "markdown",
   "metadata": {},
   "source": [
    "## For Loops\n",
    "In Example 2 for while loops, we saw how a while loop could be used to carry out a statement **for** a specified number of times. It would seem useful to have a type of loop that could execute a set of statements for a known number of iterations. This is where **for loops** come in! Below are two examples of for loops."
   ]
  },
  {
   "cell_type": "markdown",
   "metadata": {},
   "source": [
    "### For Loop Example 1:\n",
    "This example will do the same thing as Example 2 for while loops, which is to generate 10 random integers between -10,000 and 10,000"
   ]
  },
  {
   "cell_type": "code",
   "execution_count": 65,
   "metadata": {
    "collapsed": false
   },
   "outputs": [
    {
     "name": "stdout",
     "output_type": "stream",
     "text": [
      "3122\n",
      "4807\n",
      "5660\n",
      "9813\n",
      "5131\n",
      "-6361\n",
      "-3520\n",
      "7727\n",
      "-2929\n",
      "-2512\n"
     ]
    }
   ],
   "source": [
    "import random\n",
    "for counter in range(10):\n",
    "    print random.randint(-10000, 10000)"
   ]
  },
  {
   "cell_type": "markdown",
   "metadata": {},
   "source": [
    "Notice how this for loop syntax accomplished the same thing that the while loop with a counter did, but in much fewer lines of code. Therefore, when you know how many times a set of statements should be iterated, you should use a for loop."
   ]
  },
  {
   "cell_type": "markdown",
   "metadata": {},
   "source": [
    "### For Loop Example 2:\n"
   ]
  },
  {
   "cell_type": "markdown",
   "metadata": {},
   "source": [
    "## Breaking Out of a Loop"
   ]
  },
  {
   "cell_type": "markdown",
   "metadata": {},
   "source": [
    "## More Examples"
   ]
  }
 ],
 "metadata": {
  "anaconda-cloud": {},
  "kernelspec": {
   "display_name": "Python [default]",
   "language": "python",
   "name": "python2"
  },
  "language_info": {
   "codemirror_mode": {
    "name": "ipython",
    "version": 2
   },
   "file_extension": ".py",
   "mimetype": "text/x-python",
   "name": "python",
   "nbconvert_exporter": "python",
   "pygments_lexer": "ipython2",
   "version": "2.7.12"
  }
 },
 "nbformat": 4,
 "nbformat_minor": 1
}
