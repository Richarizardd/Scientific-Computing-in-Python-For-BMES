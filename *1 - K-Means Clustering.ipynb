{
 "cells": [
  {
   "cell_type": "markdown",
   "metadata": {},
   "source": [
    "In genomics, it is common to use mRNA expression data to find clusters of similarly expressed genes to help understand their function. One very robust clustering algorithm is known as the k-means clustering algorithm. This algorithm takes as input the number of clusters to find, k, and the input data. The input data can be multidimensional data, but let’s first consider gene expression data in three tissues, so each gene has three coordinates describing its normalized expression level in each tissue: x,y, and z. The kmeans algorithm is defined as follows:"
   ]
  },
  {
   "cell_type": "code",
   "execution_count": 6,
   "metadata": {
    "collapsed": true
   },
   "outputs": [],
   "source": [
    "from random import randrange\n",
    "from math import sqrt\n",
    "\n",
    "class KMeans:\n",
    "    \"\"\"Object Mean\"\"\"\n",
    "    \n",
    "    def __init__(self, mean, close_coords):\n",
    "        \"\"\"Object Constructor for Mean. Creates a Mean\"\"\"\n",
    "        self.mean = mean\n",
    "        self.close_coords = close_coords\n",
    "    \n",
    "    def getMean(self):\n",
    "        \"\"\"Returns the mean\"\"\"\n",
    "        return self.mean\n",
    "\n",
    "    def getCloseCoords(self):\n",
    "        \"\"\"Returns a list of the closest coordinates\"\"\"\n",
    "        return self.close_coords\n",
    "\n",
    "    def setMean(self, mean):\n",
    "        \"\"\"Sets the mean\"\"\"\n",
    "        self.mean = mean\n",
    "\n",
    "    def appendCloseCoords(self, coordinates):\n",
    "        \"\"\"appends a coordinate to the list of closest coordinates of a mean\"\"\"\n",
    "        self.close_coords.append(coordinates)\n",
    "\n",
    "    def setCloseCoords(self, close_coords):\n",
    "        \"\"\"Sets the closest coordinates\"\"\"\n",
    "        self.close_coords = close_coords\n",
    "\n",
    "    def __str__(self):\n",
    "        \"\"\"Prints out Mean with Closest Coords\"\"\"\n",
    "        return 'Mean: {0}\\nClosest Coordinates: {1}'.format(self.mean, self.close_coords)\n"
   ]
  },
  {
   "cell_type": "code",
   "execution_count": 4,
   "metadata": {
    "collapsed": false
   },
   "outputs": [],
   "source": [
    "def L2Distance(coordinates, mean):\n",
    "    numDimensions = len(coordinates)\n",
    "    return math.sqrt(sum([coordinates[i]-mean[i]**2 for i in range(numDimensions)]))"
   ]
  },
  {
   "cell_type": "code",
   "execution_count": null,
   "metadata": {
    "collapsed": true
   },
   "outputs": [],
   "source": [
    "def kmeans(mean_list, coordinates_list):\n",
    "    only_means = []\n",
    "    only_new_means = []\n",
    "    distance_list = []\n",
    "    count = 1\n",
    "    for mean in mean_list:\n",
    "        only_means.append(mean.getMean())\n",
    "        \n",
    "\n",
    "    #This while loop continues until the old mean list is no longer the new mean list.\n",
    "    while True:\n",
    "        #This for loop assigns every coordinate to the closest mean.\n",
    "        for coordinates in coordinates_list:\n",
    "            #This for loop creates a list of distances of a cooordinate to the different means respectively\n",
    "            for mean in mean_list:\n",
    "                distance_list.append(distance(coordinates, mean.getMean()))\n",
    "            \n",
    "            shortest_distance_index = find_shortest_distance(distance_list)\n",
    "            mean_list[shortest_distance_index].appendCloseCoords(coordinates)\n",
    "\n",
    "            distance_list = []\n",
    "\n",
    "        #Averages all the coordinate points for each mean\n",
    "        for mean in mean_list:\n",
    "            x_tot, y_tot, z_tot = 0, 0, 0\n",
    "            \n",
    "            #Total XYZ\n",
    "            for coordinates in mean.getCloseCoords():\n",
    "                x_tot = x_tot + coordinates[0]\n",
    "                y_tot = y_tot + coordinates[1]\n",
    "                z_tot = z_tot + coordinates[2]\n",
    "\n",
    "            #This takes the average\n",
    "            if len(mean.getCloseCoords()) == 0:\n",
    "                only_new_means.append([x_tot, y_tot, z_tot])\n",
    "            else:\n",
    "                only_new_means.append([x_tot/len(mean.getCloseCoords()), y_tot/len(mean.getCloseCoords()), z_tot/len(mean.getCloseCoords())])\n",
    "\n",
    "       \n",
    "        #if the new mean is equal to the old mean, break from loop\n",
    "        if only_means == only_new_means:\n",
    "            break\n",
    "\n",
    "        #Updates mean_list and only_means, resets only_new_means\n",
    "        only_means = []\n",
    "        for mean in mean_list:\n",
    "            mean.setMean(only_new_means.pop(0))\n",
    "            only_means.append(mean.getMean())\n",
    "            mean.setCloseCoords([])\n",
    "        only_new_means = []\n",
    "\n",
    "    return mean_list"
   ]
  },
  {
   "cell_type": "code",
   "execution_count": null,
   "metadata": {
    "collapsed": true
   },
   "outputs": [],
   "source": []
  },
  {
   "cell_type": "code",
   "execution_count": null,
   "metadata": {
    "collapsed": true
   },
   "outputs": [],
   "source": [
    "def part1():\n",
    "    infilename = input(\"Enter a file name for K-Means Clustering: \")\n",
    "    clusters = open(infilename, \"r\")\n",
    "    clusters_list = clusters.readlines()\n",
    "    length = len(clusters_list)\n",
    "\n",
    "    coordinates_list = []\n",
    "    #This for loop creates a list of coordinates, with each coordinate a list of three floats: x, y, and z\n",
    "    for coordinates in clusters_list:\n",
    "        coordinates = coordinates.split()\n",
    "        coordinates[0] = float(coordinates[0])\n",
    "        coordinates[1] = float(coordinates[1])\n",
    "        coordinates[2] = float(coordinates[2])\n",
    "        coordinates_list.append(coordinates)\n",
    "        \n",
    "    for k in range(2,7):\n",
    "        index_list = []\n",
    "        mean_list = []\n",
    "        #This for loop randomly selects \"k\" number of coordinates as the mean.\n",
    "        #The mean is stored in the object \"Mean\", which not only contains the mean, but the closest coordinates\n",
    "        #associated with that mean\n",
    "        for i in range(k):\n",
    "            rand = randrange(0, len(coordinates_list))\n",
    "            while (rand in index_list) == True:\n",
    "                rand = randrange(0, length)\n",
    "            index_list.append(rand)\n",
    "            mean_list.append(Mean(coordinates_list[rand],[]))\n",
    "            \n",
    "        converged_mean_list = kmeans(mean_list, coordinates_list)\n",
    "\n",
    "        cluster_index = 1\n",
    "        \n",
    "        print('K =', k)\n",
    "        print('Converged Mean')\n",
    "\n",
    "        outfile = open(\"k\"+str(k)+\".dat\", \"w\")\n",
    "        for mean in converged_mean_list:\n",
    "            print(mean.getMean())\n",
    "            for coordinates in mean.getCloseCoords():\n",
    "                str_coordinates = ''\n",
    "                for coordinate in coordinates:\n",
    "                    str_coordinates = str_coordinates + str(coordinate) + '\\t'\n",
    "                str_coordinates = str_coordinates + str(cluster_index)\n",
    "                print(str_coordinates, file = outfile)\n",
    "            cluster_index = cluster_index + 1\n",
    "\n",
    "        print('\\n', file = outfile)\n",
    "        \n",
    "        cluster_index = 1\n",
    "        print()"
   ]
  }
 ],
 "metadata": {
  "kernelspec": {
   "display_name": "Python 2",
   "language": "python",
   "name": "python2"
  },
  "language_info": {
   "codemirror_mode": {
    "name": "ipython",
    "version": 2
   },
   "file_extension": ".py",
   "mimetype": "text/x-python",
   "name": "python",
   "nbconvert_exporter": "python",
   "pygments_lexer": "ipython2",
   "version": "2.7.12"
  }
 },
 "nbformat": 4,
 "nbformat_minor": 0
}
