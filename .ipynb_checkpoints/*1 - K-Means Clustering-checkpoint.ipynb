{
 "cells": [
  {
   "cell_type": "markdown",
   "metadata": {},
   "source": [
    "In genomics, it is common to use mRNA expression data to find clusters of similarly expressed genes to help understand their function. One very robust clustering algorithm is known as the k-means clustering algorithm. This algorithm takes as input the number of clusters to find, k, and the input data. The input data can be multidimensional data, but let’s first consider gene expression data in three tissues, so each gene has three coordinates describing its normalized expression level in each tissue: x,y, and z. The kmeans algorithm is defined as follows:"
   ]
  },
  {
   "cell_type": "code",
   "execution_count": 45,
   "metadata": {
    "collapsed": true
   },
   "outputs": [],
   "source": [
    "from random import randrange\n",
    "from math import sqrt\n",
    "import time\n",
    "\n",
    "class Mean:\n",
    "    \"\"\"Object Mean\"\"\"\n",
    "    \n",
    "    def __init__(self, mean, close_coords):\n",
    "        \"\"\"Object Constructor for Mean. Creates a Mean\"\"\"\n",
    "        self.mean = mean\n",
    "        self.close_coords = close_coords\n",
    "    \n",
    "    def getMean(self):\n",
    "        \"\"\"Returns the mean\"\"\"\n",
    "        return self.mean\n",
    "\n",
    "    def getCloseCoords(self):\n",
    "        \"\"\"Returns a list of the closest coordinates\"\"\"\n",
    "        return self.close_coords\n",
    "\n",
    "    def setMean(self, mean):\n",
    "        \"\"\"Sets the mean\"\"\"\n",
    "        self.mean = mean\n",
    "\n",
    "    def appendCloseCoords(self, coordinates):\n",
    "        \"\"\"appends a coordinate to the list of closest coordinates of a mean\"\"\"\n",
    "        self.close_coords.append(coordinates)\n",
    "\n",
    "    def setCloseCoords(self, close_coords):\n",
    "        \"\"\"Sets the closest coordinates\"\"\"\n",
    "        self.close_coords = close_coords\n",
    "\n",
    "    def __str__(self):\n",
    "        \"\"\"Prints out Mean with Closest Coords\"\"\"\n",
    "        return 'Mean: {0}\\nClosest Coordinates: {1}'.format(self.mean, self.close_coords)\n"
   ]
  },
  {
   "cell_type": "code",
   "execution_count": 14,
   "metadata": {
    "collapsed": false
   },
   "outputs": [],
   "source": [
    "def L2Distance(coordinates, mean):\n",
    "    return math.sqrt(sum((coordinates[i]-mean[i])**2 for i in range(len(coordinates))))"
   ]
  },
  {
   "cell_type": "code",
   "execution_count": 43,
   "metadata": {
    "collapsed": false
   },
   "outputs": [
    {
     "data": {
      "text/plain": [
       "[<__main__.Mean instance at 0x10a671320>,\n",
       " <__main__.Mean instance at 0x10a6713b0>,\n",
       " <__main__.Mean instance at 0x10a671248>]"
      ]
     },
     "execution_count": 43,
     "metadata": {},
     "output_type": "execute_result"
    }
   ],
   "source": [
    "import numpy as np\n",
    "import random, math\n",
    "data_matrix = np.loadtxt(\"clusters.dat\")\n",
    "numPoints = len(data_matrix)\n",
    "k = 3\n",
    "\n",
    "init_means = data_matrix[random.sample(range(numPoints), 3)]\n",
    "init_means = [Mean(mean, []) for mean in init_means]\n",
    "curr_means = init_means"
   ]
  },
  {
   "cell_type": "code",
   "execution_count": 47,
   "metadata": {
    "collapsed": false
   },
   "outputs": [
    {
     "name": "stdout",
     "output_type": "stream",
     "text": [
      "Iteration:  0\n",
      "[0.69655032886792456, 0.9686423281132075, 0.23912838358490565]\n",
      "[0.94000469488888905, 0.87820132177777788, 0.061833950211111113]\n",
      "[0.092940834633725489, 0.18055845819901964, 0.34174784073529407]\n",
      "Iteration:  1\n",
      "[0.69655032886792456, 0.9686423281132075, 0.23912838358490565]\n",
      "[0.94000469488888905, 0.87820132177777788, 0.061833950211111113]\n",
      "[0.092940834633725489, 0.18055845819901964, 0.34174784073529407]\n",
      "Iteration:  2\n",
      "[0.69655032886792456, 0.9686423281132075, 0.23912838358490565]\n",
      "[0.94000469488888905, 0.87820132177777788, 0.061833950211111113]\n",
      "[0.092940834633725489, 0.18055845819901964, 0.34174784073529407]\n",
      "Iteration:  3\n",
      "[0.69655032886792456, 0.9686423281132075, 0.23912838358490565]\n",
      "[0.94000469488888905, 0.87820132177777788, 0.061833950211111113]\n",
      "[0.092940834633725489, 0.18055845819901964, 0.34174784073529407]\n",
      "Iteration:  4\n",
      "[0.69655032886792456, 0.9686423281132075, 0.23912838358490565]\n",
      "[0.94000469488888905, 0.87820132177777788, 0.061833950211111113]\n",
      "[0.092940834633725489, 0.18055845819901964, 0.34174784073529407]\n",
      "Iteration:  5\n",
      "[0.69655032886792456, 0.9686423281132075, 0.23912838358490565]\n",
      "[0.94000469488888905, 0.87820132177777788, 0.061833950211111113]\n",
      "[0.092940834633725489, 0.18055845819901964, 0.34174784073529407]\n",
      "Iteration:  6\n",
      "[0.69655032886792456, 0.9686423281132075, 0.23912838358490565]\n",
      "[0.94000469488888905, 0.87820132177777788, 0.061833950211111113]\n",
      "[0.092940834633725489, 0.18055845819901964, 0.34174784073529407]\n",
      "Iteration:  7\n",
      "[0.69655032886792456, 0.9686423281132075, 0.23912838358490565]\n",
      "[0.94000469488888905, 0.87820132177777788, 0.061833950211111113]\n",
      "[0.092940834633725489, 0.18055845819901964, 0.34174784073529407]\n",
      "Iteration:  8\n",
      "[0.69655032886792456, 0.9686423281132075, 0.23912838358490565]\n",
      "[0.94000469488888905, 0.87820132177777788, 0.061833950211111113]\n",
      "[0.092940834633725489, 0.18055845819901964, 0.34174784073529407]\n",
      "Iteration:  9\n",
      "[0.69655032886792456, 0.9686423281132075, 0.23912838358490565]\n",
      "[0.94000469488888905, 0.87820132177777788, 0.061833950211111113]\n",
      "[0.092940834633725489, 0.18055845819901964, 0.34174784073529407]\n"
     ]
    }
   ],
   "source": [
    "for i in range(10):\n",
    "    print \"Iteration: \", i\n",
    "    time.sleep(2)\n",
    "\n",
    "    for coord in data_matrix:\n",
    "        distance_list = [L2Distance(coord, mean.getMean()) for mean in curr_means]\n",
    "        curr_means[distance_list.index(min(distance_list))].appendCloseCoords(coord)\n",
    "\n",
    "    for mean in curr_means:\n",
    "        closest_coords_matrix = np.array(mean.getCloseCoords())\n",
    "\n",
    "        if (closest_coords_matrix.shape[0] == 0):\n",
    "            continue\n",
    "        else:\n",
    "            mean.setMean([np.mean(closest_coords_matrix[:, dim_i]) for dim_i in range(closest_coords_matrix.shape[1])])\n",
    "\n",
    "        print mean.getMean()\n",
    "        mean.setCloseCoords([])"
   ]
  }
 ],
 "metadata": {
  "kernelspec": {
   "display_name": "Python 2",
   "language": "python",
   "name": "python2"
  },
  "language_info": {
   "codemirror_mode": {
    "name": "ipython",
    "version": 2
   },
   "file_extension": ".py",
   "mimetype": "text/x-python",
   "name": "python",
   "nbconvert_exporter": "python",
   "pygments_lexer": "ipython2",
   "version": "2.7.12"
  }
 },
 "nbformat": 4,
 "nbformat_minor": 0
}
