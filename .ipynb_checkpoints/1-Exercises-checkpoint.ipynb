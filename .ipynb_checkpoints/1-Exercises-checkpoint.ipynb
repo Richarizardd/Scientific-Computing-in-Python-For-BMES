{
 "cells": [
  {
   "cell_type": "markdown",
   "metadata": {},
   "source": [
    "### Temperature Conversion (10 pts)\n",
    "Write a function that returns Celcius given Fahrenheit input, and vice versa."
   ]
  },
  {
   "cell_type": "code",
   "execution_count": 8,
   "metadata": {
    "collapsed": true
   },
   "outputs": [],
   "source": [
    "def F2C(F):\n",
    "    return\n",
    "\n",
    "def C2F(C):\n",
    "    return"
   ]
  },
  {
   "cell_type": "markdown",
   "metadata": {},
   "source": [
    "### Area and Perimeter of a Circle (10 pts)\n",
    "Write a function that returns the area and perimeter of a circle given radius as the input."
   ]
  },
  {
   "cell_type": "code",
   "execution_count": 1,
   "metadata": {
    "collapsed": true
   },
   "outputs": [],
   "source": [
    "def circle_area(r):\n",
    "    return\n",
    "\n",
    "def circle_perim(r):\n",
    "    return"
   ]
  },
  {
   "cell_type": "markdown",
   "metadata": {},
   "source": [
    "### Quadratic Formula (10 pts)\n",
    "Write a function that returns the roots of a quadratic equation of form $ax^2 + bx + c = 0$. Return None for both roots if they are imaginary."
   ]
  },
  {
   "cell_type": "code",
   "execution_count": null,
   "metadata": {
    "collapsed": true
   },
   "outputs": [],
   "source": [
    "def quadratic(a, b, c):\n",
    "    return root1, root2"
   ]
  },
  {
   "cell_type": "markdown",
   "metadata": {},
   "source": [
    "### Distance Between 2 Points in n-dimensions (10 pts)\n",
    "Given two lists of coordinates, where each list represents a point in n-dimensional space and n is the length of the list, return the Euclidean distance between the two points (think distance formula!). (HINT: your solution should use a for loop, or if you're feeling particularly advanced today, use a numpy array!)"
   ]
  },
  {
   "cell_type": "code",
   "execution_count": null,
   "metadata": {
    "collapsed": true
   },
   "outputs": [],
   "source": [
    "def distance(p1, p2):\n",
    "    return "
   ]
  },
  {
   "cell_type": "markdown",
   "metadata": {},
   "source": [
    "### Sum of First n Cubes (10 pts)\n",
    "Given an positive integer input n, return the sum of the first n cubes. For example, if n = 4, your answer should be $1^3 + 2^3 + 3^3 + 4^3 = 100$. (HINT: your answer should use a for loop)"
   ]
  },
  {
   "cell_type": "code",
   "execution_count": null,
   "metadata": {
    "collapsed": true
   },
   "outputs": [],
   "source": [
    "def sumncubes(n):\n",
    "    return"
   ]
  },
  {
   "cell_type": "markdown",
   "metadata": {},
   "source": [
    "### Summary Statistics (10 pts)\n",
    "Given a list of numbers, return the mean, median, and standard deviation."
   ]
  },
  {
   "cell_type": "code",
   "execution_count": null,
   "metadata": {
    "collapsed": true
   },
   "outputs": [],
   "source": [
    "def summarystats(nums):\n",
    "    return mean, median, stdev"
   ]
  },
  {
   "cell_type": "markdown",
   "metadata": {},
   "source": [
    "### Leap Year (10 pts)\n",
    "Given a particular year, return True if it is a leap year and False if it is not. If a year is divisible by 4, it is a leap year. However, if a year is divisible by 4 AND 100, then it is not a leap year (e. g. 1900). Finally, if a year is divisible by 400 (e. g. 2000), then it is a leap year. (HINT: use an if statement)"
   ]
  },
  {
   "cell_type": "code",
   "execution_count": null,
   "metadata": {
    "collapsed": true
   },
   "outputs": [],
   "source": [
    "def isleapyear(n):\n",
    "    return"
   ]
  },
  {
   "cell_type": "markdown",
   "metadata": {},
   "source": [
    "### Fibonacci (20 pts)\n",
    "Given a positive integer input n, return the first n Fibonacci numbers. The Fibonacci Sequence is defined as: $F_n = F_{n-1} + F_{n-2}$. The first two Fibonacci numbers are 1 and 1. (HINT: your solution should use a for loop.)"
   ]
  },
  {
   "cell_type": "code",
   "execution_count": null,
   "metadata": {
    "collapsed": true
   },
   "outputs": [],
   "source": [
    "def fibonacci(n):\n",
    "    return"
   ]
  },
  {
   "cell_type": "markdown",
   "metadata": {},
   "source": [
    "### Fizz-Buzz (20 pts)\n",
    "The \"Fizz-Buzz test\" is an interview question designed to help filter out the 99.5% of programming job candidates who can't seem to program their way out of a wet paper bag. The text of the programming assignment is as follows:\n",
    "\n",
    "> \"Write a program that prints the numbers from 1 to 100. But for multiples of three print “Fizz” instead of the number and for the multiples of five print “Buzz”. For numbers which are multiples of both three and five print “FizzBuzz”.\"\n",
    "\n",
    "(HINT: you only need one for loop!)"
   ]
  },
  {
   "cell_type": "code",
   "execution_count": null,
   "metadata": {
    "collapsed": true
   },
   "outputs": [],
   "source": []
  },
  {
   "cell_type": "markdown",
   "metadata": {},
   "source": [
    "### Printing a Pyramid (20 pts)\n",
    "Given a positive integer n, print a pyramid with n rows using the letter 'a'. For example, if n = 5, your output should look like:\n",
    "\n",
    "```\n",
    "    a\n",
    "   aaa\n",
    "  aaaaa\n",
    " aaaaaaa\n",
    "aaaaaaaaa\n",
    "```\n",
    "(HINT: your solution only requires one for loop! Be intelligent with counters.)"
   ]
  },
  {
   "cell_type": "code",
   "execution_count": 15,
   "metadata": {
    "collapsed": false
   },
   "outputs": [],
   "source": []
  },
  {
   "cell_type": "markdown",
   "metadata": {},
   "source": [
    "### Gradient of a Function (20 pts)\n",
    "Given the function $f(x, y, z) = x^3 + (x-1)z + 5(y-3)$, write a function that takes as input a list of 3 numbers representing a point $(x_0, y_0, z_0)$ and returns the gradient $\\nabla f(x, y, z)$ at point $(x_0, y_0, z_0)$.\n"
   ]
  },
  {
   "cell_type": "code",
   "execution_count": 7,
   "metadata": {
    "collapsed": false
   },
   "outputs": [
    {
     "data": {
      "text/plain": [
       "168.0"
      ]
     },
     "execution_count": 7,
     "metadata": {},
     "output_type": "execute_result"
    }
   ],
   "source": [
    "# x is a list that holds the three coordinate variables (x, y, z)\n",
    "def f(x):\n",
    "    \"\"\"f(x) R^3 -> R\"\"\"\n",
    "    return x[0]**3 + (x[0]-1.0)*x[2] + 5*(x[1]-3.0)\n",
    "\n",
    "# determine the gradient of f(x)\n",
    "def f_grad(x):\n",
    "    \"\"\"f_grad(x) returns the gradient of f(x)\"\"\"\n",
    "    return \n"
   ]
  },
  {
   "cell_type": "markdown",
   "metadata": {},
   "source": [
    "### Coin Flip Simulation (25 pts for each part)\n",
    "a) Write a simulation where you flip a fair coin 10,000 times. For each flip, store the frequency of heads in a list. Plot the list of frequencies to see how the frequency of heads changes. To simulate a single flip, use the function random.random(), which returns a float between 0 and 1. (HINT: you will need an if/else statement)\n",
    "\n",
    "b) Write another simulation that flips a coin until you flip 5 heads in a row. (HINT: use while loop)"
   ]
  },
  {
   "cell_type": "code",
   "execution_count": 6,
   "metadata": {
    "collapsed": false
   },
   "outputs": [
    {
     "data": {
      "text/plain": [
       "[]"
      ]
     },
     "execution_count": 6,
     "metadata": {},
     "output_type": "execute_result"
    },
    {
     "data": {
      "image/png": "[encoded data removed]",
      "text/plain": [
       "<matplotlib.figure.Figure at 0x1063531d0>"
      ]
     },
     "metadata": {},
     "output_type": "display_data"
    }
   ],
   "source": [
    "import random\n",
    "import numpy\n",
    "import matplotlib\n",
    "import matplotlib.pyplot as plt\n",
    "%matplotlib inline  \n",
    "\n",
    "random.random()\n",
    "\n",
    "plt.plot()"
   ]
  }
 ],
 "metadata": {
  "anaconda-cloud": {},
  "kernelspec": {
   "display_name": "Python [default]",
   "language": "python",
   "name": "python2"
  },
  "language_info": {
   "codemirror_mode": {
    "name": "ipython",
    "version": 2
   },
   "file_extension": ".py",
   "mimetype": "text/x-python",
   "name": "python",
   "nbconvert_exporter": "python",
   "pygments_lexer": "ipython2",
   "version": "2.7.12"
  }
 },
 "nbformat": 4,
 "nbformat_minor": 1
}
