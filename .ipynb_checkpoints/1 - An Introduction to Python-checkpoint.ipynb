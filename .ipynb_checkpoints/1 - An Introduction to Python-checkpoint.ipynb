{
 "cells": [
  {
   "cell_type": "markdown",
   "metadata": {
    "collapsed": true
   },
   "source": [
    "# An Introduction to Python"
   ]
  },
  {
   "cell_type": "markdown",
   "metadata": {},
   "source": [
    "Python is a scientific programming language that is super fun and easy to pick up! Whether you are asdlfjasdlfkjsdlfRight now, you are working within a \"Jupyter Notebook.\" Most people who code "
   ]
  },
  {
   "cell_type": "markdown",
   "metadata": {},
   "source": [
    "Here are four common data types you will encounter in Python!\n",
    "* Integers - Whole numbers\n",
    "* Floats - Real numbers\n",
    "* Booleans - True/False\n",
    "* Strings - Characters/Words\n",
    "\n",
    "We can use the \"print\" function to print out very basic numerical and string expressions to the user interface."
   ]
  },
  {
   "cell_type": "code",
   "execution_count": 21,
   "metadata": {
    "collapsed": false
   },
   "outputs": [
    {
     "name": "stdout",
     "output_type": "stream",
     "text": [
      "3\n",
      "3.5\n",
      "6.5\n",
      "True\n",
      "Hello World\n"
     ]
    }
   ],
   "source": [
    "print 3 # integer\n",
    "print 3.5 # float\n",
    "print 3 + 3.5 # float\n",
    "print True # boolean\n",
    "print \"Hello World\" #string"
   ]
  },
  {
   "cell_type": "markdown",
   "metadata": {},
   "source": [
    "You can concatenate together data types in the print function using a comma."
   ]
  },
  {
   "cell_type": "code",
   "execution_count": 24,
   "metadata": {
    "collapsed": false
   },
   "outputs": [
    {
     "name": "stdout",
     "output_type": "stream",
     "text": [
      "3 5\n"
     ]
    }
   ],
   "source": [
    "print 3, 5\n",
    "print \"Hello World is\", 2, \"word long\""
   ]
  },
  {
   "cell_type": "markdown",
   "metadata": {},
   "source": [
    "## Basic data types"
   ]
  },
  {
   "cell_type": "markdown",
   "metadata": {},
   "source": [
    "## Assigning Variables"
   ]
  },
  {
   "cell_type": "markdown",
   "metadata": {},
   "source": [
    "You can declare and assign variables as such:"
   ]
  },
  {
   "cell_type": "code",
   "execution_count": 12,
   "metadata": {
    "collapsed": false
   },
   "outputs": [
    {
     "name": "stdout",
     "output_type": "stream",
     "text": [
      "The variable 4 is of <type 'int'>\n"
     ]
    }
   ],
   "source": [
    "x = 4\n",
    "print \"The variable\", x, \"is of\", type(x)"
   ]
  },
  {
   "cell_type": "markdown",
   "metadata": {},
   "source": [
    "With numeric values, you can do a lot of basic arithmetic operations."
   ]
  },
  {
   "cell_type": "code",
   "execution_count": 9,
   "metadata": {
    "collapsed": false
   },
   "outputs": [
    {
     "name": "stdout",
     "output_type": "stream",
     "text": [
      "4\n",
      "2\n",
      "6\n",
      "9\n",
      "3\n"
     ]
    }
   ],
   "source": [
    "print x + 1   # Addition\n",
    "print x - 1   # Subtraction\n",
    "print x * 2   # Multiplication\n",
    "print x ** 2  # Exponentiation (one way)\n",
    "print x^(1/2) # Exponentiation (other way)"
   ]
  },
  {
   "cell_type": "code",
   "execution_count": null,
   "metadata": {
    "collapsed": true
   },
   "outputs": [],
   "source": []
  },
  {
   "cell_type": "code",
   "execution_count": 5,
   "metadata": {
    "collapsed": false
   },
   "outputs": [
    {
     "name": "stdout",
     "output_type": "stream",
     "text": [
      "The variable x is a: <type 'int'>\n",
      "The variable x is a: <type 'float'>\n"
     ]
    }
   ],
   "source": [
    "x = 3\n",
    "print \"The variable x is a:\", type(x)\n",
    "x = x + 0.1\n",
    "print \"The variable x is now a:\", type(x)"
   ]
  },
  {
   "cell_type": "code",
   "execution_count": 1,
   "metadata": {
    "collapsed": false
   },
   "outputs": [
    {
     "name": "stdout",
     "output_type": "stream",
     "text": [
      "<type 'int'>\n",
      "3\n",
      "4\n",
      "2\n",
      "6\n",
      "9\n",
      "4\n",
      "8\n",
      "<type 'float'>\n",
      "2.5 3.5 5.0 6.25\n"
     ]
    }
   ],
   "source": [
    "x = 3\n",
    "print type(x) # Prints \"<type 'int'>\"\n",
    "print x       # Prints \"3\"\n",
    "print x + 1   # Addition; prints \"4\"\n",
    "print x - 1   # Subtraction; prints \"2\"\n",
    "print x * 2   # Multiplication; prints \"6\"\n",
    "print x ** 2  # Exponentiation; prints \"9\"\n",
    "x += 1\n",
    "print x  # Prints \"4\"\n",
    "x *= 2\n",
    "print x  # Prints \"8\"\n",
    "y = 2.5\n",
    "print type(y) # Prints \"<type 'float'>\"\n",
    "print y, y + 1, y * 2, y ** 2 # Prints \"2.5 3.5 5.0 6.25\""
   ]
  },
  {
   "cell_type": "code",
   "execution_count": null,
   "metadata": {
    "collapsed": true
   },
   "outputs": [],
   "source": []
  }
 ],
 "metadata": {
  "kernelspec": {
   "display_name": "Python 2",
   "language": "python",
   "name": "python2"
  },
  "language_info": {
   "codemirror_mode": {
    "name": "ipython",
    "version": 2
   },
   "file_extension": ".py",
   "mimetype": "text/x-python",
   "name": "python",
   "nbconvert_exporter": "python",
   "pygments_lexer": "ipython2",
   "version": "2.7.12"
  }
 },
 "nbformat": 4,
 "nbformat_minor": 0
}
