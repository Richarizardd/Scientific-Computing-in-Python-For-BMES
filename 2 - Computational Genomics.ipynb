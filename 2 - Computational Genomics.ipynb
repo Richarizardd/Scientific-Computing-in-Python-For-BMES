{
 "cells": [
  {
   "cell_type": "markdown",
   "metadata": {},
   "source": [
    "# Computational Genomics\n",
    "\n",
    "Genomics is a field of biology whose growth is strongly correlated to the development of computer technology and advancements in computer science. As DNA sequencing becomes cheaper and faster, entire DNA sequences of genes and organisms can now be easily and inexpensively sequenced, making a trove of genomic data readily available. Computational genomics is the field of study related to processing and analyzing this genomic data."
   ]
  },
  {
   "cell_type": "markdown",
   "metadata": {},
   "source": [
    "## 0. Review Basic String Functions\n",
    "Since genomic data is most often found in the form of strings using the characters 'ATCG' to represent nucleotides, most of the functions you will be using to analyze genomic data will involve string manipulation. Luckily, Python has an extensive and robust string library that makes string manipulation very simple to code. Here is a crash course in string functions in Python:\n"
   ]
  },
  {
   "cell_type": "code",
   "execution_count": 55,
   "metadata": {
    "collapsed": false
   },
   "outputs": [
    {
     "name": "stdout",
     "output_type": "stream",
     "text": [
      "Hello World!\n",
      "12\n",
      "Hel\n",
      "ld!\n",
      "H\n",
      "lo W\n"
     ]
    }
   ],
   "source": [
    "word = 'Hello World!'\n",
    "print word # Prints a string to console output\n",
    "print len(word) # Prints the length of a string, including spaces\n",
    "print word[:3] # Prints the first 3 characters of the string\n",
    "print word[-3:] # Prints the last 3 characters of the string\n",
    "print word[0] # Prints the first character of the string. Notice that strings start at index 0.\n",
    "print word[3:7] # Prints the 4th through 7th character of the string. "
   ]
  },
  {
   "cell_type": "markdown",
   "metadata": {},
   "source": [
    "Notice that in the last line of code\n",
    "<pre>\n",
    "print word[3:7]\n",
    "</pre>\n",
    "\n",
    "gives us the 4th through 7th character in 'Hello World!'. The index position 3 actually corresponds to the 4th character in 'Hello World!' This is because in Python, strings start at index position 0. Also notice that the code asks for word[3:7]. Using the logic that strings start at index position 0, you would think that the index position 7 in word[3:7] would correspond to the 8th character in 'Hello World!' and that printing word[3:7] would result in 'lo Wo'. However, the \"splicing\" notation used here is inclusive on the first parameter 3 and exclusive on the second parameter 7, which means that word[3:7] actually prints out the 4th through 7th character in 'Hello World!' This inclusive/exclusive condition is true for all splicing in Python. Thus, if we wanted the 6th through 8th character in 'Hello World!', we would print word[5:8]. Please look up the Python documentation on your own time if you are still confused. Making sure indices are correct in any coding language is half the battle, and is especially important when dealing with genomic data where the exact position of each nucleotide is crucial!\n",
    "\n",
    "Below are a couple more functions that you might find useful in this tutorial. I won't go into too much detail about why they work - you can look that up on your own time."
   ]
  },
  {
   "cell_type": "code",
   "execution_count": 64,
   "metadata": {
    "collapsed": false
   },
   "outputs": [
    {
     "name": "stdout",
     "output_type": "stream",
     "text": [
      "3\n",
      "!dlroW olleH\n",
      "Herro Worrd!\n",
      "H\n",
      "e\n",
      "l\n",
      "l\n",
      "o\n",
      " \n",
      "W\n",
      "o\n",
      "r\n",
      "l\n",
      "d\n",
      "!\n"
     ]
    }
   ],
   "source": [
    "print word.count('l') # Prints the count of a specific character in word.\n",
    "print word[::-1] # Prints the reverse of the string\n",
    "print word.replace('l', 'r') # Replaces all instances of the first parameter with the second parameter\n",
    "for i in word: # In python, you can treat strings as iterable arrays. This code will print each letter in word.\n",
    "    print i"
   ]
  },
  {
   "cell_type": "code",
   "execution_count": null,
   "metadata": {
    "collapsed": true
   },
   "outputs": [],
   "source": [
    "# Practice some of the basic string functions here!"
   ]
  },
  {
   "cell_type": "markdown",
   "metadata": {},
   "source": [
    "## 1. Importance of Algorithms\n",
    "To illustrate the importance of computer science and algorithm design in the context of computational genomics, we will try to search for a specific sequence of nucleotides in the human chromosome 21, the smallest human chromosome."
   ]
  },
  {
   "cell_type": "markdown",
   "metadata": {},
   "source": [
    "Run the following code to import the sequence for chromosome 21 and store it in a variable called chr21."
   ]
  },
  {
   "cell_type": "code",
   "execution_count": 33,
   "metadata": {
    "collapsed": false
   },
   "outputs": [],
   "source": [
    "f = open('chr21.fa')\n",
    "seq = []\n",
    "for ln in f:\n",
    "    if ln[0] != '>':\n",
    "        seq.append(ln.rstrip())\n",
    "chr21 = ''.join(seq)"
   ]
  },
  {
   "cell_type": "markdown",
   "metadata": {},
   "source": [
    "To illustrate why the efficiency of algorithms is important to think about, let's try to search for increasing lengths of the repeated adenine nucleotide on chromosome 21 and measure how much time it takes. Complete the code below to manually search for repeated sequences of 'A' of length 15 to 30 and compare the time it takes to finish searching the chromosome for these sequences."
   ]
  },
  {
   "cell_type": "code",
   "execution_count": 74,
   "metadata": {
    "collapsed": false
   },
   "outputs": [],
   "source": [
    "import time\n",
    "\n",
    "times1 = []\n",
    "\n",
    "for # Complete for loop to iterate through lengths 15-30:\n",
    "    start = time.time() #Keep track of the start time\n",
    "    \n",
    "    # Write code here that will create a string of length i of repeated 'A's and store it in a variable called 'nuc'\n",
    "    # There are multiple ways to do this! Use the skills you learned from Module 1 or look up documentation.\n",
    "    nuc = \n",
    "    \n",
    "    for # Complete for loop to iterate through chromosome 21:\n",
    "        if # Complete code  == nuc:\n",
    "            break\n",
    "            \n",
    "    elapsed = # Complete code to calculate how much time has elapsed. Hint: look at code for start variable.\n",
    "    print 'Elapsed time to search for length', i, 'is', elapsed, 'seconds'\n",
    "    times1.append(elapsed)"
   ]
  },
  {
   "cell_type": "code",
   "execution_count": 42,
   "metadata": {
    "collapsed": false
   },
   "outputs": [
    {
     "name": "stdout",
     "output_type": "stream",
     "text": [
      "Elapsed time to search for length 15 is 6.54049396515 seconds\n",
      "Elapsed time to search for length 16 is 3.86504602432 seconds\n",
      "Elapsed time to search for length 17 is 3.8875939846 seconds\n",
      "Elapsed time to search for length 18 is 3.97486591339 seconds\n",
      "Elapsed time to search for length 19 is 4.69843816757 seconds\n",
      "Elapsed time to search for length 20 is 10.7985570431 seconds\n",
      "Elapsed time to search for length 21 is 10.3947470188 seconds\n",
      "Elapsed time to search for length 22 is 10.4693920612 seconds\n",
      "Elapsed time to search for length 23 is 10.4519851208 seconds\n",
      "Elapsed time to search for length 24 is 9.79630589485 seconds\n",
      "Elapsed time to search for length 25 is 10.7334220409 seconds\n",
      "Elapsed time to search for length 26 is 10.4758048058 seconds\n",
      "Elapsed time to search for length 27 is 10.1412739754 seconds\n",
      "Elapsed time to search for length 28 is 10.2856278419 seconds\n",
      "Elapsed time to search for length 29 is 10.4583261013 seconds\n",
      "Elapsed time to search for length 30 is 10.8000891209 seconds\n"
     ]
    },
    {
     "data": {
      "image/png": "[encoded data removed]",
      "text/plain": [
       "<matplotlib.figure.Figure at 0x11d1d3310>"
      ]
     },
     "metadata": {},
     "output_type": "display_data"
    }
   ],
   "source": [
    "# Answer\n",
    "import time\n",
    "%matplotlib inline\n",
    "import matplotlib.pyplot as plt\n",
    "\n",
    "times1 = []\n",
    "\n",
    "for i in range(15, 31):\n",
    "    start = time.time() #Keep track of the start time\n",
    "    \n",
    "    #Write code here that will create a string of length i of repeated 'A's and store it in a variable called 'nuc'\n",
    "    #There are multiple ways to do this! Use the skills you learned from Module 1 or look up documentation.\n",
    "    nuc = 'A' * i\n",
    "    \n",
    "    for j in range(len(chr21) - i):\n",
    "        if chr21[j:j+i] == nuc:\n",
    "            break\n",
    "    elapsed = time.time() - start\n",
    "    print 'Elapsed time to search for length', i, 'is', elapsed, 'seconds'\n",
    "    times1.append(elapsed)\n",
    "\n",
    "plt.plot(range(15,31), times1)\n",
    "plt.ylabel('Elapsed Computation Time (seconds)')\n",
    "plt.xlabel('Length of Sequence Searched For')\n",
    "plt.show()"
   ]
  },
  {
   "cell_type": "code",
   "execution_count": 44,
   "metadata": {
    "collapsed": false,
    "scrolled": false
   },
   "outputs": [
    {
     "name": "stdout",
     "output_type": "stream",
     "text": [
      "Found: True\n",
      "Elapsed time to search for length 15 is 0.00304102897644 seconds\n",
      "Found: True\n",
      "Elapsed time to search for length 16 is 0.0056529045105 seconds\n",
      "Found: True\n",
      "Elapsed time to search for length 17 is 0.00474905967712 seconds\n",
      "Found: True\n",
      "Elapsed time to search for length 18 is 0.00501203536987 seconds\n",
      "Found: True\n",
      "Elapsed time to search for length 19 is 0.00649404525757 seconds\n",
      "Found: False\n",
      "Elapsed time to search for length 20 is 0.0244719982147 seconds\n",
      "Found: False\n",
      "Elapsed time to search for length 21 is 0.0213918685913 seconds\n",
      "Found: False\n",
      "Elapsed time to search for length 22 is 0.0278551578522 seconds\n",
      "Found: False\n",
      "Elapsed time to search for length 23 is 0.0180220603943 seconds\n",
      "Found: False\n",
      "Elapsed time to search for length 24 is 0.0221078395844 seconds\n",
      "Found: False\n",
      "Elapsed time to search for length 25 is 0.0184111595154 seconds\n",
      "Found: False\n",
      "Elapsed time to search for length 26 is 0.0160429477692 seconds\n",
      "Found: False\n",
      "Elapsed time to search for length 27 is 0.0149099826813 seconds\n",
      "Found: False\n",
      "Elapsed time to search for length 28 is 0.0217161178589 seconds\n",
      "Found: False\n",
      "Elapsed time to search for length 29 is 0.0184769630432 seconds\n",
      "Found: False\n",
      "Elapsed time to search for length 30 is 0.0148220062256 seconds\n"
     ]
    },
    {
     "data": {
      "image/png": "[encoded data removed]",
      "text/plain": [
       "<matplotlib.figure.Figure at 0x11dc840d0>"
      ]
     },
     "metadata": {},
     "output_type": "display_data"
    }
   ],
   "source": [
    "times2 = []\n",
    "\n",
    "for i in range(15, 31):\n",
    "    start = time.time() #Keep track of the start time\n",
    "    \n",
    "    #Write code here that will create a string of length i of repeated 'A's and store it in a variable called 'nuc'\n",
    "    #Use your same code as above\n",
    "    nuc = 'A' * i\n",
    "    \n",
    "    \n",
    "    print 'Found:', nuc in chr21\n",
    "    elapsed = time.time() - start #Complete code to calculate how much time as elapsed. Hint: look at code for start variable.\n",
    "    print 'Elapsed time to search for length', i, 'is', elapsed, 'seconds'\n",
    "    times2.append(elapsed)\n",
    "    \n",
    "plt.plot(range(15, 31), times1, 'b', range(15, 31), times2, 'r')\n",
    "plt.ylabel('Elapsed Computation Time (seconds)')\n",
    "plt.xlabel('Length of Sequence Searched For')\n",
    "plt.show()"
   ]
  },
  {
   "cell_type": "markdown",
   "metadata": {},
   "source": [
    "There are a couple of things to observe in the comparison between computation times that you have graphed above:\n",
    "1. Observe how when we tried to write our own, \"naive\" algorithm to find a sequence of repeated 'A's in chromosome 21, the computation time is in the order of magnitude of seconds; however, when we use Python's built-in substring search function 'in', the computation time is on the order of hundredths of seconds or faster. This is because manually comparing strings using the == operator at every single index position in chr21 takes a very long time. When using the 'in' keyword, the makers of Python have implemented a very fast string search algorithm called Boyer-Moore that searches for substrings much faster than comparing the substring at every position in a string. This results in the hundredfold reduction in string search time.\n",
    "2. Notice how in general, the longer the sequence we want to search for, the longer the computation time takes. Whether the computation time increases linearly, exponentially, or in some other mathematical relationship as the length of the sequence increases is known as the time-complexity of the string search algorithm. Time-complexity is a fundamental measurement of how efficient an algorithm is, and is very important to keep in mind when designing and implementing algorithms."
   ]
  },
  {
   "cell_type": "markdown",
   "metadata": {},
   "source": [
    "## 2. Basics of Genomics\n",
    "Now that you have some newfound appreciation for computational genomics, let's explore some fundamentals. Most of you may remember from high school biology that the ratio of A:T and G:C is exactly 1:1 in correctly paired double stranded DNA since A pairs with T and G pairs with C. This is known as Chargaff's Rule. What many of you may not know is that there is a second Chargaff's Rule that says that even among a single strand of DNA, the percentage of As is approximately the same as the percentage of Ts, and the percentage of Gs is approximately the same as the percengate of Cs. Let's check this rule for the single stranded sequence of chr21 that we have stored!"
   ]
  },
  {
   "cell_type": "code",
   "execution_count": null,
   "metadata": {
    "collapsed": true
   },
   "outputs": [],
   "source": [
    "for i in 'ATCG':\n",
    "    percentage = #Calculate the percentage of 'A's, 'T's, 'C's, and 'G's in chr21\n",
    "    print percentage"
   ]
  },
  {
   "cell_type": "code",
   "execution_count": 67,
   "metadata": {
    "collapsed": false
   },
   "outputs": [
    {
     "name": "stdout",
     "output_type": "stream",
     "text": [
      "0.113772116062\n",
      "0.113614210046\n",
      "0.0764248914318\n",
      "0.0763376483576\n"
     ]
    }
   ],
   "source": [
    "# Answer\n",
    "for i in 'ATCG':\n",
    "    percentage = chr21.count(i)/float(len(chr21))\n",
    "    print percentage"
   ]
  },
  {
   "cell_type": "markdown",
   "metadata": {},
   "source": [
    "You should've gotten that As and Ts each make up ~11.4% of chromosome 21 and Gs and Cs each make up ~7.6%.\n",
    "\n",
    "Now, let's try to transcribe DNA into RNA, find the reverse complement of DNA, and translate RNA to an amino acid sequence. Transcribing DNA is pretty simple in Python. All you have to do is replace all Ts with Us in a nucleotide sequence."
   ]
  },
  {
   "cell_type": "code",
   "execution_count": 69,
   "metadata": {
    "collapsed": false
   },
   "outputs": [],
   "source": [
    "def transcribe(seq):\n",
    "    # Complete the code to transcribe a sequence seq\n",
    "    return RNA\n",
    "\n",
    "DNA = 'GATGGAACTTGACTACGTAAATT'\n",
    "RNA = transcribe(DNA)"
   ]
  },
  {
   "cell_type": "markdown",
   "metadata": {},
   "source": [
    "Finding the reverse complement is a little bit harder. Typically DNA is read 5' to 3'. This means that for double stranded DNA, the two strands are aligned with 5' and 3' ends opposite to each other. Thus, sometimes it is important to know the reverse complement of a single strand of the DNA. The reverse complement can be computed by first reversing a DNA sequence, and then taking the complement. "
   ]
  },
  {
   "cell_type": "code",
   "execution_count": 72,
   "metadata": {
    "collapsed": false
   },
   "outputs": [],
   "source": [
    "def rev_complement(seq):\n",
    "    # Complete the code to find the reverse complement. \n",
    "    # Hint: use one of the basic string functions mentioned before.\n",
    "    # Hint: use if/else statements to find the complement\n",
    "    return rc\n",
    "\n",
    "DNA = 'AAAACCCGGT'\n",
    "rc = rev_complment(DNA)"
   ]
  },
  {
   "cell_type": "markdown",
   "metadata": {},
   "source": [
    "Computational genomics is especially important in identifying specific genes and/or mutations. This is usually done by comparing an individual's genome to a reference genome, and looking at differences between the two. Let's try writing some code to compare a DNA sequence to a reference sequence."
   ]
  },
  {
   "cell_type": "code",
   "execution_count": 73,
   "metadata": {
    "collapsed": true
   },
   "outputs": [],
   "source": [
    "reference = 'GAGCCTACTAACGGGAT'\n",
    "DNA = 'CATCGTAATGACGGCCT'\n",
    "\n",
    "# Complete the code to count the number of corresponding base pairs that mismatch."
   ]
  },
  {
   "cell_type": "markdown",
   "metadata": {},
   "source": [
    "## 3. Translating Open Reading Frames\n",
    "While trascription and finding the reverse complement is somewhat trivial in Python, finding the amino acid sequence coded by a strand of DNA is not. This is because each amino acid is encoded by a nucleotide codon of length 3. This means that for a given strand of DNA, there are 6 ways (or \"Open Reading Frames\") to decipher the amino acid sequence: 3 ways reading the strand forwards, and 3 ways reading the strand in reverse. Let's try to find all valud amino acid sequences for the 6 open reading frames of the DNA sequence below:"
   ]
  },
  {
   "cell_type": "code",
   "execution_count": 77,
   "metadata": {
    "collapsed": false
   },
   "outputs": [],
   "source": [
    "DNA = 'AGCCATGTAGCTAACTCAGGTTACATGGGGATGACCCCGCGACTTGGATTAGAGTCTCTTTTGGAATAAGCCTGAATGATCCGAGTAGCATCTCAG'\n",
    "\n",
    "bases = [firCodon + secCodon + wobble for firCodon in \"UCAG\" for secCodon in \"UCAG\" for wobble in \"UCAG\"]\n",
    "aminoAcids = 'FFLLSSSSYY**CC*WLLLLPPPPHHQQRRRRIIIMTTTTNNKKSSRRVVVVAAAADDEEGGGG'\n",
    "codons = dict(zip(bases, aminoAcids))\n",
    "\n",
    "# Complete code to find all possible amino acid sequences that can be coded by the DNA sequence above"
   ]
  },
  {
   "cell_type": "markdown",
   "metadata": {},
   "source": [
    "## 4. Summary\n",
    "In this module, you now have a basic understanding of how to manipulate strings for genomic analysis in Python. You have seen the importance of algorithm design and selection by comparing the run times between an algorithm you wrote yourself and an algorithm native to Python. You have also explored some of the basics of computational genomics involving DNA and RNA. \n",
    "\n",
    "The new skills you have learned in this module are only a tiny fraction of what is involved in computational genomics. We haven't even explored doing computational statistical analysis on genomes. Currently, some exciting fields within computational genomics include finding new genes using algorithms, applications for personalized and precision medicine, and genetic testing. All of these fields use the various pieces of code you have written in this module!\n"
   ]
  }
 ],
 "metadata": {
  "kernelspec": {
   "display_name": "Python 2",
   "language": "python",
   "name": "python2"
  },
  "language_info": {
   "codemirror_mode": {
    "name": "ipython",
    "version": 2
   },
   "file_extension": ".py",
   "mimetype": "text/x-python",
   "name": "python",
   "nbconvert_exporter": "python",
   "pygments_lexer": "ipython2",
   "version": "2.7.10"
  }
 },
 "nbformat": 4,
 "nbformat_minor": 1
}
