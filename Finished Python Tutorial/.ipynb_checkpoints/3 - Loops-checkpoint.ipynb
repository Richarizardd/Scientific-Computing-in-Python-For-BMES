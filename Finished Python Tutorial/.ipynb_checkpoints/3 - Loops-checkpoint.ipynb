{
 "cells": [
  {
   "cell_type": "markdown",
   "metadata": {
    "collapsed": true
   },
   "source": [
    "# Loops\n",
    "\n",
    "Loops are one of the most fundamental and important concepts in computer science. In fact, it could be argued that the need for computers and computer science came about from the desire and need to carry out a set of instructions repeatedly an extremely large number of times (e.g. adding a lot of different numbers).\n",
    "\n",
    "A loop is a control statement that executes a set of statements multiple numbers of times. The two most important types of loops that we will be covering in this exploration are **while loops** and **for loops**."
   ]
  },
  {
   "cell_type": "markdown",
   "metadata": {},
   "source": [
    "## 1. While Loops\n",
    "As the name implies, while loops carry out a set of statements **while** a boolean condition remains true."
   ]
  },
  {
   "cell_type": "markdown",
   "metadata": {},
   "source": [
    "### While Loop Example 1:\n",
    "The following while loop keeps generating random integers between -10,000 and 10,000 **while** the random integers are even. This means that as soon as an odd number is chosen, the loop will stop generating random numbers. In order to start the loop, we set the initial random integer to be 0 so that the boolean condition is evaluated to be True during the first iteration of the loop."
   ]
  },
  {
   "cell_type": "code",
   "execution_count": 6,
   "metadata": {
    "collapsed": false
   },
   "outputs": [
    {
     "name": "stdout",
     "output_type": "stream",
     "text": [
      "3952\n",
      "7316\n",
      "2270\n",
      "-5657\n"
     ]
    }
   ],
   "source": [
    "import random\n",
    "number = 0\n",
    "while (number % 2 == 0):\n",
    "    number = random.randint(-10000, 10000)\n",
    "    print number"
   ]
  },
  {
   "cell_type": "markdown",
   "metadata": {},
   "source": [
    "The example above illustrates how you can use a while loop to generate random numbers until you reach an odd number. The while loop is useful here, because we don't know exactly how many random numbers (iterations) to generate until an odd number is reached. In the following example, we will see how to use a while loop to repeat a set of statements for a known number of iterations. "
   ]
  },
  {
   "cell_type": "markdown",
   "metadata": {},
   "source": [
    "### While Loop Example 2:\n",
    "The following while loop generates 10 random integers between -10,000 and 10,000. In order to do this, we will introduce an integer variable called 'counter' that counts how many times we have generated a random integer. Thus, the boolean condition of the while statement is 'if counter is less than 10.'"
   ]
  },
  {
   "cell_type": "code",
   "execution_count": 61,
   "metadata": {
    "collapsed": false
   },
   "outputs": [
    {
     "name": "stdout",
     "output_type": "stream",
     "text": [
      "950\n",
      "-963\n",
      "2008\n",
      "-9507\n",
      "-7369\n",
      "-1588\n",
      "-8001\n",
      "5628\n",
      "-3864\n",
      "-2064\n"
     ]
    }
   ],
   "source": [
    "import random\n",
    "counter = 0\n",
    "while (counter < 10):\n",
    "    number = random.randint(-10000, 10000)\n",
    "    print number\n",
    "    counter += 1"
   ]
  },
  {
   "cell_type": "markdown",
   "metadata": {},
   "source": [
    "Notice that we have to increase counter at the end of the while loop so that counter actually keeps track of how many iterations have been carried out. If we didn't have this statement to increase counter, counter would always remain less than 10 and the while loop would enter what is known as an \"infinite loop\" in which the loop would just keep on generating random numbers until you closed the program or shut off the computer. **Watch out for infinite loops when using while loops!**\n",
    "\n",
    "### While Loop Example 3: Prey/Predator Relationship\n",
    "A really simple, but cool simulation you can run with while loops that is bio(medically) relevant is a prey/predator relationship. This prey and predator could be deer and wolves, but it could also be pathogens and white blood cells. Let's explore this further!"
   ]
  },
  {
   "cell_type": "code",
   "execution_count": null,
   "metadata": {
    "collapsed": false
   },
   "outputs": [],
   "source": [
    "import numpy as np\n",
    "import matplotlib.pyplot as plt\n",
    "import random\n",
    "%matplotlib inline\n",
    "\n",
    "predator = [10.0]\n",
    "prey = [100.0]\n",
    "\n",
    "while (predator[-1] > 0 and prey[-1] > 0): # While there are still prey and predators alive\n",
    "    encounter = random.random() # Random float x, 0.0 <= x < 1.0\n",
    "    curr_pred = predator[-1] # Current predator count\n",
    "    curr_prey = prey[-1] # Current prey count\n",
    "    \n",
    "    if encounter < curr_prey/(curr_prey + curr_pred): # If a predator encounters a prey\n",
    "        predator.append(curr_pred + 1) # Increase predator by 1\n",
    "        prey.append(curr_prey - 5) # Decrease prey by 3\n",
    "    else:\n",
    "        predator.append(curr_pred - 3) # Predator decrease by 1\n",
    "        prey.append(curr_prey + 5) #Prey increase by 5\n",
    "        \n",
    "fig, ax = plt.subplots()\n",
    "ax.plot(predator), ax.plot(prey); ax.legend(['Predator', 'Prey']);\n",
    "plt.xlabel('Time'), plt.ylabel('Count'); plt.ylim(ymin=0);"
   ]
  },
  {
   "cell_type": "markdown",
   "metadata": {},
   "source": [
    "## 2. For Loops\n",
    "In Example 2 for while loops, we saw how a while loop could be used to carry out a statement **for** a specified number of times. It would seem useful to have a type of loop that could execute a set of statements for a known number of iterations. This is where **for loops** come in! Below are two examples of for loops."
   ]
  },
  {
   "cell_type": "markdown",
   "metadata": {},
   "source": [
    "### For Loop Example 1:\n",
    "This example will do the same thing as Example 2 for while loops, which is to generate 10 random integers between -10,000 and 10,000"
   ]
  },
  {
   "cell_type": "code",
   "execution_count": 65,
   "metadata": {
    "collapsed": false
   },
   "outputs": [
    {
     "name": "stdout",
     "output_type": "stream",
     "text": [
      "3122\n",
      "4807\n",
      "5660\n",
      "9813\n",
      "5131\n",
      "-6361\n",
      "-3520\n",
      "7727\n",
      "-2929\n",
      "-2512\n"
     ]
    }
   ],
   "source": [
    "import random\n",
    "for counter in range(10):\n",
    "    print random.randint(-10000, 10000)"
   ]
  },
  {
   "cell_type": "markdown",
   "metadata": {},
   "source": [
    "Notice how this for loop syntax accomplished the same thing that the while loop with a counter did, but in much fewer lines of code. Therefore, when you know how many times a set of statements should be iterated, you should use a for loop."
   ]
  },
  {
   "cell_type": "markdown",
   "metadata": {},
   "source": [
    "### For Loop Example 2:\n",
    "Sometimes we need to use multiple for loops nested within each other. In this example, we will use for loops to print a 10x10 table of integers from 1 to 100, but replace all the non-prime integers with three blank spaces. A naive way to test if a number is prime or not is to check if the number is divisible by integers from 2 up to one less than the number itself. We can do this with another for loop and the modulo operator `%` as shown below."
   ]
  },
  {
   "cell_type": "code",
   "execution_count": 113,
   "metadata": {
    "collapsed": false
   },
   "outputs": [
    {
     "name": "stdout",
     "output_type": "stream",
     "text": [
      "1 2 3    5    7          \n",
      "\n",
      "11    13          17    19    \n",
      "\n",
      "      23                29    \n",
      "\n",
      "31                37          \n",
      "\n",
      "41    43          47          \n",
      "\n",
      "      53                59    \n",
      "\n",
      "61                67          \n",
      "\n",
      "71    73                79    \n",
      "\n",
      "      83                89    \n",
      "\n",
      "                  97          \n",
      "\n"
     ]
    }
   ],
   "source": [
    "for i in range(10):\n",
    "    for j in range(10):\n",
    "        n = i*10 + (j + 1)\n",
    "        isprime = True\n",
    "        for k in range(2, n):\n",
    "            if n % k == 0: # if the number is divisible by k, then it is not prime!\n",
    "                isprime = False\n",
    "                break # break out of the for loop\n",
    "        if isprime:\n",
    "            print n,\n",
    "        else:\n",
    "            print '  ',\n",
    "    print '\\n'\n",
    "        "
   ]
  },
  {
   "cell_type": "markdown",
   "metadata": {},
   "source": [
    "## 3. Assignment\n",
    "\n",
    "### 3.1a Random Walks\n",
    "Random walks are important processes with applications in finance, biology, and physics. An example of a random walk in biology is the movement of a bacteria floating in liquid. Another example of a random walk is the price of a medical device over time.\n",
    "\n",
    "The simplest kind of random walk is the simple symmetric random walk. In this random walk, we start at position 0 at time 0, and for all subsequent integer time points the random walk can either take a step up ***from the last position*** with probability 0.5 or a step down ***from the last position*** with probability 0.5. \n",
    "\n",
    "Intuitively, you might think that since there is an equal probability of stepping up and stepping down at each time, eventually the random walk will approach 0. Write a for loop to simulate a random walk and see if this is true after 10, 100, and 1000 time units."
   ]
  },
  {
   "cell_type": "code",
   "execution_count": 135,
   "metadata": {
    "collapsed": false
   },
   "outputs": [
    {
     "ename": "SyntaxError",
     "evalue": "invalid syntax (<ipython-input-135-9d061e2edbb7>, line 7)",
     "output_type": "error",
     "traceback": [
      "\u001b[0;36m  File \u001b[0;32m\"<ipython-input-135-9d061e2edbb7>\"\u001b[0;36m, line \u001b[0;32m7\u001b[0m\n\u001b[0;31m    for # fill in the for loop here:\u001b[0m\n\u001b[0m                                    ^\u001b[0m\n\u001b[0;31mSyntaxError\u001b[0m\u001b[0;31m:\u001b[0m invalid syntax\n"
     ]
    }
   ],
   "source": [
    "import matplotlib\n",
    "import matplotlib.pyplot as plt\n",
    "import random\n",
    "%matplotlib inline\n",
    "\n",
    "walk = [0]\n",
    "for # fill in the for loop here:\n",
    "    if random.random() < 0.5:\n",
    "        walk.append(# fill in here what to append to walk)\n",
    "    else:\n",
    "        walk.append(# fill in here what to append to walk)\n",
    "        \n",
    "plt.plot(walk)"
   ]
  },
  {
   "cell_type": "markdown",
   "metadata": {},
   "source": [
    "### 3.1b Multiple Random Walks\n",
    "What do you notice about how distance of the random walk away from 0 changes as the length of time increases? Let's do an even more complete simulation where we plot 100 different sample random walks of the time length 1000 to see how they depart from 0 collectively, instead of just looking at a single sample random walk."
   ]
  },
  {
   "cell_type": "code",
   "execution_count": 136,
   "metadata": {
    "collapsed": false
   },
   "outputs": [
    {
     "ename": "SyntaxError",
     "evalue": "invalid syntax (<ipython-input-136-06d9927373f2>, line 2)",
     "output_type": "error",
     "traceback": [
      "\u001b[0;36m  File \u001b[0;32m\"<ipython-input-136-06d9927373f2>\"\u001b[0;36m, line \u001b[0;32m2\u001b[0m\n\u001b[0;31m    for # fill in the for loop here:\u001b[0m\n\u001b[0m                                    ^\u001b[0m\n\u001b[0;31mSyntaxError\u001b[0m\u001b[0;31m:\u001b[0m invalid syntax\n"
     ]
    }
   ],
   "source": [
    "fig, ax = plt.subplots()\n",
    "for # fill in the for loop here:\n",
    "    walk = [0]\n",
    "    for # fill in the for loop here:\n",
    "        if random.random() < 0.5:\n",
    "            walk.append(# fill in here what to append to walk)\n",
    "        else:\n",
    "            walk.append(# fill in here what to append to walk)\n",
    "    \n",
    "    \n",
    "    ax.plot(walk)"
   ]
  },
  {
   "cell_type": "markdown",
   "metadata": {},
   "source": [
    "### 3.2 Ion Channel Simulation\n",
    "There are some proteins in your cell membranes called ion channels that allow sodium, potassium, and calcium ions to pass through selectively. In some of these channels, there are four \"gates\" that need to all be open in order for ions to pass through. In this problem, assume that these gates are independent of each other and open with probability 0.3. \n",
    "\n",
    "Use a `while` loop to write a simulation that prints out the time, the open or close status of each of the four gates, as well as if the overall ion channel is open (all four gates open) or closed (any one or more of the four gates closed). Terminate the `while` loop when the ion channel is completely open (all four gates are open). Let state 0 represent a closed gate and state 1 represent an open gate.\n"
   ]
  },
  {
   "cell_type": "code",
   "execution_count": 163,
   "metadata": {
    "collapsed": false
   },
   "outputs": [
    {
     "data": {
      "text/plain": [
       "0"
      ]
     },
     "execution_count": 163,
     "metadata": {},
     "output_type": "execute_result"
    }
   ],
   "source": [
    "import random\n",
    "gate1 , gate2, gate3, gate4 = 0, 0, 0, 0\n",
    "time = 0\n",
    "\n",
    "while # fill in condition here for ion channel being closed:\n",
    "    # simulate each of the 4 gates opening with probability 0.3 using random.random()\n",
    "    # update the open or close state of each state\n",
    "    # print out the current time, each gate's state, and the overall ion channel's state\n",
    "    # UPDATE THE TIME"
   ]
  }
 ],
 "metadata": {
  "anaconda-cloud": {},
  "kernelspec": {
   "display_name": "Python [default]",
   "language": "python",
   "name": "python2"
  },
  "language_info": {
   "codemirror_mode": {
    "name": "ipython",
    "version": 2
   },
   "file_extension": ".py",
   "mimetype": "text/x-python",
   "name": "python",
   "nbconvert_exporter": "python",
   "pygments_lexer": "ipython2",
   "version": "2.7.12"
  }
 },
 "nbformat": 4,
 "nbformat_minor": 1
}
